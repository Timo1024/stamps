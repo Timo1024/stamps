{
 "cells": [
  {
   "cell_type": "code",
   "execution_count": 11,
   "metadata": {},
   "outputs": [],
   "source": [
    "from selenium import webdriver\n",
    "from selenium.webdriver.common.keys import Keys\n",
    "from selenium.webdriver.firefox.options import Options\n",
    "from selenium.webdriver.common.by import By\n",
    "from selenium.webdriver.support.ui import WebDriverWait\n",
    "from selenium.webdriver.support import expected_conditions as EC\n",
    "from selenium.common.exceptions import TimeoutException, NoSuchElementException\n",
    "from bs4 import BeautifulSoup\n",
    "import time\n",
    "import matplotlib.pyplot as plt\n",
    "import csv\n",
    "import pandas as pd\n",
    "import requests\n",
    "from PIL import Image\n",
    "from io import BytesIO\n",
    "from IPython.display import display\n",
    "import re\n",
    "from tqdm.notebook import tqdm\n",
    "import networkx as nx\n",
    "import numpy as np\n",
    "from datetime import datetime, timedelta\n",
    "import os\n",
    "from PIL import ImageFile"
   ]
  },
  {
   "cell_type": "markdown",
   "metadata": {},
   "source": [
    "# load csv"
   ]
  },
  {
   "cell_type": "code",
   "execution_count": 2,
   "metadata": {},
   "outputs": [],
   "source": [
    "images_df = pd.read_csv('./csv_files/all_images_url_concat.csv')"
   ]
  },
  {
   "cell_type": "code",
   "execution_count": 3,
   "metadata": {},
   "outputs": [
    {
     "data": {
      "text/html": [
       "<div>\n",
       "<style scoped>\n",
       "    .dataframe tbody tr th:only-of-type {\n",
       "        vertical-align: middle;\n",
       "    }\n",
       "\n",
       "    .dataframe tbody tr th {\n",
       "        vertical-align: top;\n",
       "    }\n",
       "\n",
       "    .dataframe thead th {\n",
       "        text-align: right;\n",
       "    }\n",
       "</style>\n",
       "<table border=\"1\" class=\"dataframe\">\n",
       "  <thead>\n",
       "    <tr style=\"text-align: right;\">\n",
       "      <th></th>\n",
       "      <th>GroupID</th>\n",
       "      <th>Country</th>\n",
       "      <th>Url</th>\n",
       "    </tr>\n",
       "  </thead>\n",
       "  <tbody>\n",
       "    <tr>\n",
       "      <th>0</th>\n",
       "      <td>256031</td>\n",
       "      <td>Aaland</td>\n",
       "      <td>https://www.stampworld.com/media/catalogue/Aal...</td>\n",
       "    </tr>\n",
       "    <tr>\n",
       "      <th>1</th>\n",
       "      <td>256035</td>\n",
       "      <td>Aaland</td>\n",
       "      <td>https://www.stampworld.com/media/catalogue/Aal...</td>\n",
       "    </tr>\n",
       "    <tr>\n",
       "      <th>2</th>\n",
       "      <td>256037</td>\n",
       "      <td>Aaland</td>\n",
       "      <td>https://www.stampworld.com/media/catalogue/Aal...</td>\n",
       "    </tr>\n",
       "    <tr>\n",
       "      <th>3</th>\n",
       "      <td>256037</td>\n",
       "      <td>Aaland</td>\n",
       "      <td>https://www.stampworld.com/media/catalogue/Aal...</td>\n",
       "    </tr>\n",
       "    <tr>\n",
       "      <th>4</th>\n",
       "      <td>256040</td>\n",
       "      <td>Aaland</td>\n",
       "      <td>https://www.stampworld.com/media/catalogue/Aal...</td>\n",
       "    </tr>\n",
       "  </tbody>\n",
       "</table>\n",
       "</div>"
      ],
      "text/plain": [
       "   GroupID Country                                                Url\n",
       "0   256031  Aaland  https://www.stampworld.com/media/catalogue/Aal...\n",
       "1   256035  Aaland  https://www.stampworld.com/media/catalogue/Aal...\n",
       "2   256037  Aaland  https://www.stampworld.com/media/catalogue/Aal...\n",
       "3   256037  Aaland  https://www.stampworld.com/media/catalogue/Aal...\n",
       "4   256040  Aaland  https://www.stampworld.com/media/catalogue/Aal..."
      ]
     },
     "execution_count": 3,
     "metadata": {},
     "output_type": "execute_result"
    }
   ],
   "source": [
    "images_df.head()"
   ]
  },
  {
   "cell_type": "markdown",
   "metadata": {},
   "source": [
    "# functions"
   ]
  },
  {
   "cell_type": "code",
   "execution_count": 10,
   "metadata": {},
   "outputs": [],
   "source": [
    "# create ./images_all/[country]/[groupID]/ folder if not exists\n",
    "def create_folder_if_not_exists(country, groupID):\n",
    "    if not os.path.exists(f'./images_all/{country}/{groupID}/'):\n",
    "        os.makedirs(f'./images_all/{country}/{groupID}/')\n",
    "\n",
    "# download image from url to ./images_all/[country]/[groupID]/ folder\n",
    "def download_image(url, country, groupID):\n",
    "    print(f'Downloading {url} to ./images_all/{country}/{groupID}/')\n",
    "    create_folder_if_not_exists(country, groupID)\n",
    "    response = requests.get(url)\n",
    "    img = Image.open(BytesIO(response.content))\n",
    "    img.save(f'./images_all/{country}/{groupID}/{url.split(\"/\")[-1]}')"
   ]
  },
  {
   "cell_type": "markdown",
   "metadata": {},
   "source": [
    "# main"
   ]
  },
  {
   "cell_type": "code",
   "execution_count": 12,
   "metadata": {},
   "outputs": [
    {
     "data": {
      "application/vnd.jupyter.widget-view+json": {
       "model_id": "8f43e18fcb4c4a7cb864296b6ad74dea",
       "version_major": 2,
       "version_minor": 0
      },
      "text/plain": [
       "  0%|          | 0/604766 [00:00<?, ?it/s]"
      ]
     },
     "metadata": {},
     "output_type": "display_data"
    },
    {
     "name": "stdout",
     "output_type": "stream",
     "text": [
      "Downloading https://www.stampworld.com/media/catalogue/Burkina-Faso/Postage-stamps/NE-s.jpg to ./images_all/Burkina Faso/89458/\n",
      "Downloading https://www.stampworld.com/media/catalogue/Greece/Postage-stamps/AVW1-s.jpg to ./images_all/Greece/275508/\n",
      "Downloading https://www.stampworld.com/media/catalogue/Israel/Postage-stamps/CHK-s.jpg to ./images_all/Israel/217265/\n",
      "Downloading https://www.stampworld.com/media/catalogue/Sierra-Leone-2018_Present/Postage-stamps/0081-b.jpg to ./images_all/Sierra Leone 2018-Present/279486/\n"
     ]
    }
   ],
   "source": [
    "# loop over images_df and download images if downnload failed print the index and url\n",
    "\n",
    "ImageFile.LOAD_TRUNCATED_IMAGES = True\n",
    "\n",
    "possible_indices = [79136, 207898, 268640, 475560]\n",
    "# possible_indices = [79136, 207898, 268640, 450178, 461822, 475560, 499087]\n",
    "\n",
    "for index, row in tqdm(images_df.iterrows(), total=images_df.shape[0]):\n",
    "    if index in possible_indices:\n",
    "        try:\n",
    "            download_image(row['Url'], row['Country'], row['GroupID'])\n",
    "        except Exception as e:\n",
    "            print(f'Error at index {index} with url: {row[\"Url\"]}')\n",
    "            print(e)"
   ]
  }
 ],
 "metadata": {
  "kernelspec": {
   "display_name": ".venv",
   "language": "python",
   "name": "python3"
  },
  "language_info": {
   "codemirror_mode": {
    "name": "ipython",
    "version": 3
   },
   "file_extension": ".py",
   "mimetype": "text/x-python",
   "name": "python",
   "nbconvert_exporter": "python",
   "pygments_lexer": "ipython3",
   "version": "3.11.9"
  }
 },
 "nbformat": 4,
 "nbformat_minor": 2
}
