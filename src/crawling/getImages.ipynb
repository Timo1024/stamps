{
 "cells": [
  {
   "cell_type": "markdown",
   "metadata": {},
   "source": [
    "# load libraries"
   ]
  },
  {
   "cell_type": "code",
   "execution_count": 5,
   "metadata": {},
   "outputs": [],
   "source": [
    "from selenium import webdriver\n",
    "from selenium.webdriver.common.keys import Keys\n",
    "from selenium.webdriver.firefox.options import Options\n",
    "from selenium.webdriver.common.by import By\n",
    "from selenium.webdriver.support.ui import WebDriverWait\n",
    "from selenium.webdriver.support import expected_conditions as EC\n",
    "from selenium.common.exceptions import TimeoutException, NoSuchElementException\n",
    "from bs4 import BeautifulSoup\n",
    "import time\n",
    "import matplotlib.pyplot as plt\n",
    "import csv\n",
    "import pandas as pd\n",
    "import requests\n",
    "from PIL import Image\n",
    "from io import BytesIO\n",
    "from IPython.display import display\n",
    "import re\n",
    "from tqdm.notebook import tqdm\n",
    "import networkx as nx\n",
    "import numpy as np\n",
    "from datetime import datetime, timedelta\n",
    "import os"
   ]
  },
  {
   "cell_type": "markdown",
   "metadata": {},
   "source": [
    "# Get images"
   ]
  },
  {
   "cell_type": "markdown",
   "metadata": {},
   "source": [
    "## load countries"
   ]
  },
  {
   "cell_type": "code",
   "execution_count": 4,
   "metadata": {},
   "outputs": [
    {
     "data": {
      "text/html": [
       "<div>\n",
       "<style scoped>\n",
       "    .dataframe tbody tr th:only-of-type {\n",
       "        vertical-align: middle;\n",
       "    }\n",
       "\n",
       "    .dataframe tbody tr th {\n",
       "        vertical-align: top;\n",
       "    }\n",
       "\n",
       "    .dataframe thead th {\n",
       "        text-align: right;\n",
       "    }\n",
       "</style>\n",
       "<table border=\"1\" class=\"dataframe\">\n",
       "  <thead>\n",
       "    <tr style=\"text-align: right;\">\n",
       "      <th></th>\n",
       "      <th>url</th>\n",
       "      <th>parent_countries</th>\n",
       "      <th>continent</th>\n",
       "      <th>total_pages</th>\n",
       "    </tr>\n",
       "  </thead>\n",
       "  <tbody>\n",
       "    <tr>\n",
       "      <th>0</th>\n",
       "      <td>/en/stamps/Aaland/</td>\n",
       "      <td>['Finland']</td>\n",
       "      <td>Europe</td>\n",
       "      <td>12.0</td>\n",
       "    </tr>\n",
       "    <tr>\n",
       "      <th>1</th>\n",
       "      <td>/en/stamps/Aegean-Islands/</td>\n",
       "      <td>['Italy', 'Italian Occupations', 'Aegean Islan...</td>\n",
       "      <td>Europe</td>\n",
       "      <td>4.0</td>\n",
       "    </tr>\n",
       "    <tr>\n",
       "      <th>2</th>\n",
       "      <td>/en/stamps/Calimno/</td>\n",
       "      <td>['Italy', 'Italian Occupations', 'Aegean Islan...</td>\n",
       "      <td>Europe</td>\n",
       "      <td>1.0</td>\n",
       "    </tr>\n",
       "    <tr>\n",
       "      <th>3</th>\n",
       "      <td>/en/stamps/Caso/</td>\n",
       "      <td>['Italy', 'Italian Occupations', 'Aegean Islan...</td>\n",
       "      <td>Europe</td>\n",
       "      <td>1.0</td>\n",
       "    </tr>\n",
       "    <tr>\n",
       "      <th>4</th>\n",
       "      <td>/en/stamps/Castelrosso/</td>\n",
       "      <td>['Italy', 'Italian Occupations', 'Aegean Islan...</td>\n",
       "      <td>Europe</td>\n",
       "      <td>1.0</td>\n",
       "    </tr>\n",
       "  </tbody>\n",
       "</table>\n",
       "</div>"
      ],
      "text/plain": [
       "                          url  \\\n",
       "0          /en/stamps/Aaland/   \n",
       "1  /en/stamps/Aegean-Islands/   \n",
       "2         /en/stamps/Calimno/   \n",
       "3            /en/stamps/Caso/   \n",
       "4     /en/stamps/Castelrosso/   \n",
       "\n",
       "                                    parent_countries continent  total_pages  \n",
       "0                                        ['Finland']    Europe         12.0  \n",
       "1  ['Italy', 'Italian Occupations', 'Aegean Islan...    Europe          4.0  \n",
       "2  ['Italy', 'Italian Occupations', 'Aegean Islan...    Europe          1.0  \n",
       "3  ['Italy', 'Italian Occupations', 'Aegean Islan...    Europe          1.0  \n",
       "4  ['Italy', 'Italian Occupations', 'Aegean Islan...    Europe          1.0  "
      ]
     },
     "execution_count": 4,
     "metadata": {},
     "output_type": "execute_result"
    }
   ],
   "source": [
    "countries = pd.read_csv('country_links_pages.csv', index_col=0)\n",
    "countries.head()"
   ]
  },
  {
   "cell_type": "markdown",
   "metadata": {},
   "source": [
    "## functions"
   ]
  },
  {
   "cell_type": "code",
   "execution_count": 38,
   "metadata": {},
   "outputs": [],
   "source": [
    "def login(driver, url):\n",
    "    driver.get(url)\n",
    "\n",
    "    # switch to the iframe\n",
    "    iframe = WebDriverWait(driver, 20).until(EC.presence_of_element_located((By.ID, 'sp_message_iframe_1117340')))\n",
    "    driver.switch_to.frame(iframe)\n",
    "\n",
    "    # accept the cookies\n",
    "    try:\n",
    "        wait = WebDriverWait(driver, 20)  # increase wait time to 20 seconds\n",
    "        button = wait.until(EC.presence_of_element_located((By.XPATH, '//button[@title=\"Accept\" and @aria-label=\"Accept\"]')))  # use more specific XPath\n",
    "        button.click()\n",
    "    except TimeoutException:\n",
    "        print(\"Could not find the Accept button.\")\n",
    "\n",
    "    driver.switch_to.default_content()\n",
    "\n",
    "    time.sleep(1)\n",
    "    # click the login button\n",
    "    driver.find_element(By.ID, 'signIn').click()\n",
    "    time.sleep(1)\n",
    "    # enter username\n",
    "    driver.find_element(By.ID, 'username').send_keys('timo1024')\n",
    "    # enter password\n",
    "    driver.find_element(By.ID, 'password').send_keys('StampworldSecure')\n",
    "    # click the login button\n",
    "    driver.find_element(By.ID, 'loginBtn').click()\n",
    "    time.sleep(1)\n",
    "\n",
    "def get_country_name(driver):\n",
    "    time.sleep(1)\n",
    "    soup = BeautifulSoup(driver.page_source, 'html.parser')\n",
    "    country_name = soup.find('h6', {'id': 'topBlueBarGroupsCatalogLabel'}).text.split(\"(\")[0].strip()\n",
    "    return country_name\n",
    "\n",
    "def get_image_links(driver):\n",
    "    image_links = []\n",
    "    try:\n",
    "        group_boxes = driver.find_elements(By.CSS_SELECTOR, \"div[id^='group_box_']\")\n",
    "        for group_box in group_boxes:\n",
    "            group_id = group_box.get_attribute(\"id\").split(\"_\")[-1]\n",
    "            image_container = group_box.find_element(By.CLASS_NAME, \"images_container\")\n",
    "            imgs = image_container.find_elements(By.TAG_NAME, \"img\")\n",
    "            for img in imgs:\n",
    "                image_links.append((group_id, img.get_attribute(\"src\")))\n",
    "    except NoSuchElementException:\n",
    "        pass\n",
    "    return image_links\n",
    "\n",
    "def save_image(url, path):\n",
    "    response = requests.get(url, stream=True)\n",
    "    if response.status_code == 200:\n",
    "        with open(path, 'wb') as file:\n",
    "            for chunk in response:\n",
    "                file.write(chunk)\n",
    "    else:\n",
    "        print(f\"Could not download image from {url}\")"
   ]
  },
  {
   "cell_type": "markdown",
   "metadata": {},
   "source": [
    "## main"
   ]
  },
  {
   "cell_type": "code",
   "execution_count": 39,
   "metadata": {},
   "outputs": [
    {
     "name": "stderr",
     "output_type": "stream",
     "text": [
      "C:\\Users\\Robin\\AppData\\Local\\Packages\\PythonSoftwareFoundation.Python.3.12_qbz5n2kfra8p0\\LocalCache\\local-packages\\Python312\\site-packages\\numpy\\core\\fromnumeric.py:59: FutureWarning: 'DataFrame.swapaxes' is deprecated and will be removed in a future version. Please use 'DataFrame.transpose' instead.\n",
      "  return bound(*args, **kwds)\n"
     ]
    },
    {
     "name": "stdout",
     "output_type": "stream",
     "text": [
      "Processing countries subset nr. 0\n"
     ]
    },
    {
     "data": {
      "application/vnd.jupyter.widget-view+json": {
       "model_id": "723942c7c17a4e2f80885da7f8aa03bc",
       "version_major": 2,
       "version_minor": 0
      },
      "text/plain": [
       "Processing:   0%|          | 0/19 [00:00<?, ?it/s]"
      ]
     },
     "metadata": {},
     "output_type": "display_data"
    },
    {
     "name": "stdout",
     "output_type": "stream",
     "text": [
      "TimeoutException, retrying...\n",
      "TimeoutException, retrying...\n"
     ]
    }
   ],
   "source": [
    "# Split country rows into 62 separate dataframes\n",
    "countries_split = np.array_split(countries, 62)\n",
    "\n",
    "# For single indices\n",
    "indeces = [0]\n",
    "counter = 1\n",
    "\n",
    "# Loop over all dataframes\n",
    "for i in indeces:\n",
    "    print(f\"Processing countries subset nr. {i}\")\n",
    "    countries_subset = countries_split[i]\n",
    "    try:\n",
    "        options = Options()\n",
    "        options.headless = False\n",
    "        driver = webdriver.Firefox(options=options)\n",
    "        driver.set_page_load_timeout(60)\n",
    "\n",
    "        # Login\n",
    "        login(driver, 'https://www.stampworld.com/en/')\n",
    "        time.sleep(1)\n",
    "\n",
    "        for index, row in tqdm(countries_subset.iterrows(), total=countries_subset.shape[0], desc=\"Processing\"):\n",
    "            link = f\"https://www.stampworld.com{row.url}\"\n",
    "            try:\n",
    "                driver.get(link)\n",
    "            except TimeoutException:\n",
    "                print(\"TimeoutException\")\n",
    "                continue\n",
    "            country_name = get_country_name(driver)\n",
    "\n",
    "            # Create country directory if it doesn't exist\n",
    "            country_path = os.path.join(\"./images\", country_name)\n",
    "            os.makedirs(country_path, exist_ok=True)\n",
    "\n",
    "            # Loop over all pages from 1 to the last page\n",
    "            for page in range(1, int(row.total_pages) + 1):\n",
    "                # If page is multiple of 40 relogin to website (close driver and open new one)\n",
    "                if counter % 40 == 0:\n",
    "                    driver.quit()\n",
    "                    driver = webdriver.Firefox(options=options)\n",
    "                    driver.set_page_load_timeout(60)\n",
    "                    login(driver, 'https://www.stampworld.com/en/')\n",
    "\n",
    "                time.sleep(1)\n",
    "                # Get the link of the page\n",
    "                page_link = f\"https://www.stampworld.com{row.url}?page={page}\"\n",
    "\n",
    "                # Set a timeout for the operation\n",
    "                timeout = timedelta(minutes=1)\n",
    "                start_time = datetime.now()\n",
    "\n",
    "                while datetime.now() - start_time < timeout:\n",
    "                    try:\n",
    "                        driver.get(page_link)\n",
    "                        time.sleep(1)\n",
    "                        break  # If successful, break the loop\n",
    "                    except TimeoutException:\n",
    "                        print(\"TimeoutException, retrying...\")\n",
    "                        continue\n",
    "\n",
    "                image_links = get_image_links(driver)\n",
    "                x = 0\n",
    "                for group_id, img_src in image_links:\n",
    "                    group_path = os.path.join(country_path, group_id)\n",
    "                    os.makedirs(group_path, exist_ok=True)\n",
    "                    img_path = os.path.join(group_path, f\"{x}.jpg\")\n",
    "                    save_image(img_src, img_path)\n",
    "                    x += 1\n",
    "\n",
    "        driver.quit()\n",
    "    except Exception as e:\n",
    "        print(e)\n",
    "        try:\n",
    "            driver.quit()\n",
    "        except:\n",
    "            print(\"Could not quit driver.\")\n",
    "        continue"
   ]
  },
  {
   "cell_type": "markdown",
   "metadata": {},
   "source": [
    "# get watermarks"
   ]
  },
  {
   "cell_type": "code",
   "execution_count": 9,
   "metadata": {},
   "outputs": [
    {
     "name": "stderr",
     "output_type": "stream",
     "text": [
      "C:\\Users\\Robin\\AppData\\Local\\Temp\\ipykernel_36152\\809514479.py:1: DtypeWarning: Columns (6) have mixed types. Specify dtype option on import or set low_memory=False.\n",
      "  stamps = pd.read_csv('all_countries.csv', index_col=0)\n"
     ]
    }
   ],
   "source": [
    "stamps = pd.read_csv('all_countries.csv', index_col=0)"
   ]
  },
  {
   "cell_type": "code",
   "execution_count": 36,
   "metadata": {},
   "outputs": [],
   "source": [
    "# get all unique values in the 'Watermark' (ecept NaN) for each country (column 'Country')\n",
    "watermarks = stamps.groupby('Country')['Watermark'].unique().apply(lambda x: [i for i in x if i == i]).reset_index()\n",
    "# convert to integers\n",
    "watermarks['Watermark'] = watermarks['Watermark'].apply(lambda x: [int(i) for i in x])"
   ]
  },
  {
   "cell_type": "code",
   "execution_count": 37,
   "metadata": {},
   "outputs": [
    {
     "data": {
      "application/vnd.jupyter.widget-view+json": {
       "model_id": "0a98ad353ff3492cad3d6c78b4973513",
       "version_major": 2,
       "version_minor": 0
      },
      "text/plain": [
       "Processing:   0%|          | 0/1125 [00:00<?, ?it/s]"
      ]
     },
     "metadata": {},
     "output_type": "display_data"
    }
   ],
   "source": [
    "# get all watermark images from \"https://www.stampworld.com/media/catalogue/[Country with - instead of space]/Postage-stamps/wm[watermark].gif\" and save them if it worked in ./images/[country with spaces]/watermarks/[watermark].gif\n",
    "for index, row in tqdm(watermarks.iterrows(), total=watermarks.shape[0], desc=\"Processing\"):\n",
    "    country = row['Country']\n",
    "    watermarks = row['Watermark']\n",
    "    country_path = os.path.join(\"./images\", country)\n",
    "    watermarks_path = os.path.join(country_path, \"watermarks\")\n",
    "    os.makedirs(watermarks_path, exist_ok=True)\n",
    "    for watermark in watermarks:\n",
    "        watermark_path = os.path.join(watermarks_path, f\"{watermark}.gif\")\n",
    "        # if watermark is just one digit, add a 0 in front of it\n",
    "        if watermark < 10:\n",
    "            watermark = f\"0{watermark}\"\n",
    "        watermark_url = f\"https://www.stampworld.com/media/catalogue/{country.replace(' ', '-')}/Postage-stamps/wm{watermark}.gif\"\n",
    "        save_image(watermark_url, watermark_path)"
   ]
  }
 ],
 "metadata": {
  "kernelspec": {
   "display_name": "Python 3",
   "language": "python",
   "name": "python3"
  },
  "language_info": {
   "codemirror_mode": {
    "name": "ipython",
    "version": 3
   },
   "file_extension": ".py",
   "mimetype": "text/x-python",
   "name": "python",
   "nbconvert_exporter": "python",
   "pygments_lexer": "ipython3",
   "version": "3.12.4"
  }
 },
 "nbformat": 4,
 "nbformat_minor": 2
}
