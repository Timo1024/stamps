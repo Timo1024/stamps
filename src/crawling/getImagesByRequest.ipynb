{
 "cells": [
  {
   "cell_type": "markdown",
   "metadata": {},
   "source": [
    "# load packages"
   ]
  },
  {
   "cell_type": "code",
   "execution_count": 2,
   "metadata": {},
   "outputs": [],
   "source": [
    "import csv\n",
    "import numpy as np\n",
    "import pandas as pd \n",
    "import requests\n",
    "from tqdm.auto import tqdm\n",
    "import os\n",
    "import time"
   ]
  },
  {
   "cell_type": "markdown",
   "metadata": {},
   "source": [
    "# get all images\n",
    "save them in ./images_all_2/[country]/[year]/[set_id]/[number].jpg\n",
    "And save this patch in new column [Image_Path]"
   ]
  },
  {
   "cell_type": "code",
   "execution_count": 3,
   "metadata": {},
   "outputs": [
    {
     "name": "stderr",
     "output_type": "stream",
     "text": [
      "C:\\Users\\Robin\\AppData\\Local\\Temp\\ipykernel_4712\\3062245543.py:2: DtypeWarning: Columns (12,13,14,15,16,21,27,28,40) have mixed types. Specify dtype option on import or set low_memory=False.\n",
      "  df = pd.read_csv('./contents_merged/all_contents_updated_3.csv')\n"
     ]
    }
   ],
   "source": [
    "# load csv\n",
    "df = pd.read_csv('./contents_merged/all_contents_updated_3.csv')"
   ]
  },
  {
   "cell_type": "code",
   "execution_count": 4,
   "metadata": {},
   "outputs": [
    {
     "data": {
      "application/vnd.jupyter.widget-view+json": {
       "model_id": "5d359892bb7e4f1a9b2b31f72c8e13eb",
       "version_major": 2,
       "version_minor": 0
      },
      "text/plain": [
       "Processing Batches:   0%|          | 0/20 [00:00<?, ?it/s]"
      ]
     },
     "metadata": {},
     "output_type": "display_data"
    },
    {
     "data": {
      "application/vnd.jupyter.widget-view+json": {
       "model_id": "132ec3f7b33e40448ce9a82069142477",
       "version_major": 2,
       "version_minor": 0
      },
      "text/plain": [
       "Processing Batch 91:   0%|          | 0/10000 [00:00<?, ?it/s]"
      ]
     },
     "metadata": {},
     "output_type": "display_data"
    },
    {
     "data": {
      "application/vnd.jupyter.widget-view+json": {
       "model_id": "f16f8ddf1543482986040143960bc87f",
       "version_major": 2,
       "version_minor": 0
      },
      "text/plain": [
       "Processing Batch 92:   0%|          | 0/10000 [00:00<?, ?it/s]"
      ]
     },
     "metadata": {},
     "output_type": "display_data"
    },
    {
     "data": {
      "application/vnd.jupyter.widget-view+json": {
       "model_id": "b47f284c701e4a7a9222674e0277bfca",
       "version_major": 2,
       "version_minor": 0
      },
      "text/plain": [
       "Processing Batch 93:   0%|          | 0/10000 [00:00<?, ?it/s]"
      ]
     },
     "metadata": {},
     "output_type": "display_data"
    },
    {
     "data": {
      "application/vnd.jupyter.widget-view+json": {
       "model_id": "a47174f4375047d2898cbd73736ed06a",
       "version_major": 2,
       "version_minor": 0
      },
      "text/plain": [
       "Processing Batch 94:   0%|          | 0/10000 [00:00<?, ?it/s]"
      ]
     },
     "metadata": {},
     "output_type": "display_data"
    },
    {
     "data": {
      "application/vnd.jupyter.widget-view+json": {
       "model_id": "760ff37e433c4bb895c63935924f0b11",
       "version_major": 2,
       "version_minor": 0
      },
      "text/plain": [
       "Processing Batch 95:   0%|          | 0/10000 [00:00<?, ?it/s]"
      ]
     },
     "metadata": {},
     "output_type": "display_data"
    },
    {
     "data": {
      "application/vnd.jupyter.widget-view+json": {
       "model_id": "34cd3449a01a4885a0733c151d6b4029",
       "version_major": 2,
       "version_minor": 0
      },
      "text/plain": [
       "Processing Batch 96:   0%|          | 0/10000 [00:00<?, ?it/s]"
      ]
     },
     "metadata": {},
     "output_type": "display_data"
    },
    {
     "data": {
      "application/vnd.jupyter.widget-view+json": {
       "model_id": "c657da1aae2b436c857d159e89b5caed",
       "version_major": 2,
       "version_minor": 0
      },
      "text/plain": [
       "Processing Batch 97:   0%|          | 0/10000 [00:00<?, ?it/s]"
      ]
     },
     "metadata": {},
     "output_type": "display_data"
    },
    {
     "data": {
      "application/vnd.jupyter.widget-view+json": {
       "model_id": "df7b4fe35dc743d1b4ed49595a6e86a8",
       "version_major": 2,
       "version_minor": 0
      },
      "text/plain": [
       "Processing Batch 98:   0%|          | 0/10000 [00:00<?, ?it/s]"
      ]
     },
     "metadata": {},
     "output_type": "display_data"
    },
    {
     "data": {
      "application/vnd.jupyter.widget-view+json": {
       "model_id": "86c22e118fa6447fbbabd872b000a67b",
       "version_major": 2,
       "version_minor": 0
      },
      "text/plain": [
       "Processing Batch 99:   0%|          | 0/10000 [00:00<?, ?it/s]"
      ]
     },
     "metadata": {},
     "output_type": "display_data"
    },
    {
     "data": {
      "application/vnd.jupyter.widget-view+json": {
       "model_id": "d85a5f3e3d9743b08be97a28a518b3b2",
       "version_major": 2,
       "version_minor": 0
      },
      "text/plain": [
       "Processing Batch 100:   0%|          | 0/10000 [00:00<?, ?it/s]"
      ]
     },
     "metadata": {},
     "output_type": "display_data"
    },
    {
     "data": {
      "application/vnd.jupyter.widget-view+json": {
       "model_id": "d1dcbd0a03ea47d290972d94b614ad30",
       "version_major": 2,
       "version_minor": 0
      },
      "text/plain": [
       "Processing Batch 101:   0%|          | 0/10000 [00:00<?, ?it/s]"
      ]
     },
     "metadata": {},
     "output_type": "display_data"
    },
    {
     "data": {
      "application/vnd.jupyter.widget-view+json": {
       "model_id": "770d1c5822b74899aee5ceaabb99165c",
       "version_major": 2,
       "version_minor": 0
      },
      "text/plain": [
       "Processing Batch 102:   0%|          | 0/10000 [00:00<?, ?it/s]"
      ]
     },
     "metadata": {},
     "output_type": "display_data"
    },
    {
     "data": {
      "application/vnd.jupyter.widget-view+json": {
       "model_id": "49120dd7410e4d61886dcefe602f3052",
       "version_major": 2,
       "version_minor": 0
      },
      "text/plain": [
       "Processing Batch 103:   0%|          | 0/10000 [00:00<?, ?it/s]"
      ]
     },
     "metadata": {},
     "output_type": "display_data"
    },
    {
     "data": {
      "application/vnd.jupyter.widget-view+json": {
       "model_id": "aa3271053e53455c952d23538d676c8a",
       "version_major": 2,
       "version_minor": 0
      },
      "text/plain": [
       "Processing Batch 104:   0%|          | 0/10000 [00:00<?, ?it/s]"
      ]
     },
     "metadata": {},
     "output_type": "display_data"
    },
    {
     "data": {
      "application/vnd.jupyter.widget-view+json": {
       "model_id": "9a75bcb003084a37b9657742334d8cde",
       "version_major": 2,
       "version_minor": 0
      },
      "text/plain": [
       "Processing Batch 105:   0%|          | 0/10000 [00:00<?, ?it/s]"
      ]
     },
     "metadata": {},
     "output_type": "display_data"
    },
    {
     "data": {
      "application/vnd.jupyter.widget-view+json": {
       "model_id": "a9447493736e4980a566efb595de6ccf",
       "version_major": 2,
       "version_minor": 0
      },
      "text/plain": [
       "Processing Batch 106:   0%|          | 0/10000 [00:00<?, ?it/s]"
      ]
     },
     "metadata": {},
     "output_type": "display_data"
    },
    {
     "data": {
      "application/vnd.jupyter.widget-view+json": {
       "model_id": "29b91e4c45dc4b6db24e157a585e5d29",
       "version_major": 2,
       "version_minor": 0
      },
      "text/plain": [
       "Processing Batch 107:   0%|          | 0/10000 [00:00<?, ?it/s]"
      ]
     },
     "metadata": {},
     "output_type": "display_data"
    },
    {
     "data": {
      "application/vnd.jupyter.widget-view+json": {
       "model_id": "b814dd1b16254e87bb9d2c433ebb2204",
       "version_major": 2,
       "version_minor": 0
      },
      "text/plain": [
       "Processing Batch 108:   0%|          | 0/10000 [00:00<?, ?it/s]"
      ]
     },
     "metadata": {},
     "output_type": "display_data"
    },
    {
     "data": {
      "application/vnd.jupyter.widget-view+json": {
       "model_id": "2574d895d302429f9e58e92c056e73aa",
       "version_major": 2,
       "version_minor": 0
      },
      "text/plain": [
       "Processing Batch 109:   0%|          | 0/10000 [00:00<?, ?it/s]"
      ]
     },
     "metadata": {},
     "output_type": "display_data"
    },
    {
     "data": {
      "application/vnd.jupyter.widget-view+json": {
       "model_id": "eec66b6f3c5d4d9b91365e66950425e7",
       "version_major": 2,
       "version_minor": 0
      },
      "text/plain": [
       "Processing Batch 110:   0%|          | 0/7474 [00:00<?, ?it/s]"
      ]
     },
     "metadata": {},
     "output_type": "display_data"
    }
   ],
   "source": [
    "max_retries = 3\n",
    "retry_delay = 2  # seconds\n",
    "\n",
    "# Assuming df is your DataFrame\n",
    "batch_size = 10000\n",
    "num_batches = int(np.ceil(len(df) / batch_size))\n",
    "\n",
    "# set starting batch because some batches were already processed\n",
    "start_batch = 91\n",
    "\n",
    "for batch_number in tqdm(range(start_batch, num_batches), desc=\"Processing Batches\", leave=False):\n",
    "    start_index = batch_number * batch_size\n",
    "    end_index = min((batch_number + 1) * batch_size, len(df))\n",
    "    df_batch = df.iloc[start_index:end_index].copy()\n",
    "\n",
    "    for index, row in tqdm(df_batch.iterrows(), total=df_batch.shape[0], desc=f\"Processing Batch {batch_number}\", leave=False):\n",
    "\n",
    "        if str(row['Image_URL']) == 'nan':\n",
    "            # set to None\n",
    "            df_batch.loc[index, 'Image_Path'] = None\n",
    "            continue\n",
    "\n",
    "        try:\n",
    "            url = row['Image_URL']\n",
    "            url = \"https://www.stampworld.com/\" + str(url)\n",
    "            for attempt in range(max_retries):\n",
    "                try:\n",
    "                    response = requests.get(url)\n",
    "                    response.raise_for_status()  # Raises an error for bad responses\n",
    "                    break  # Exit the loop if the request is successful\n",
    "                except requests.exceptions.RequestException as e:\n",
    "                    if attempt < max_retries - 1:\n",
    "                        time.sleep(retry_delay)  # Wait before retrying\n",
    "                    else:\n",
    "                        raise  # Re-raise the exception if the last attempt fails\n",
    "\n",
    "            country = row['Country']\n",
    "            year = row['Year']\n",
    "            set_id = row['Set_ID']\n",
    "            # split url at / and get last element\n",
    "            filename = url.split('/')[-1]\n",
    "\n",
    "            if response.status_code == 200:\n",
    "                path_to_store_image = f\"./images_all_2/{country}/{year}/{set_id}/{filename}\"\n",
    "                # create folder if it doesn't exist\n",
    "                if not os.path.exists(os.path.dirname(path_to_store_image)):\n",
    "                    os.makedirs(os.path.dirname(path_to_store_image))\n",
    "                with open(path_to_store_image, 'wb') as f:\n",
    "                    f.write(response.content)\n",
    "                # save path to new column\n",
    "                df_batch.loc[index, 'Image_Path'] = path_to_store_image\n",
    "            else:\n",
    "                raise Exception(f\"Error 1 at index {index} with url: {url} (in batch {batch_number})\")\n",
    "\n",
    "        except Exception as e:\n",
    "            print(f\"Error 2 at index {index} with url: {url}, set value to None (in batch {batch_number})\")\n",
    "            print(e)\n",
    "\n",
    "            # set to None\n",
    "            df_batch.loc[index, 'Image_Path'] = None\n",
    "\n",
    "\n",
    "            # raise exception\n",
    "            # raise e\n",
    "\n",
    "    # Save the batch DataFrame to a CSV file\n",
    "    df_batch.to_csv(f'./contents_merged/batches_with_images/batch_{batch_number}.csv', index=False)"
   ]
  }
 ],
 "metadata": {
  "kernelspec": {
   "display_name": "Python 3",
   "language": "python",
   "name": "python3"
  },
  "language_info": {
   "codemirror_mode": {
    "name": "ipython",
    "version": 3
   },
   "file_extension": ".py",
   "mimetype": "text/x-python",
   "name": "python",
   "nbconvert_exporter": "python",
   "pygments_lexer": "ipython3",
   "version": "3.12.8"
  }
 },
 "nbformat": 4,
 "nbformat_minor": 2
}
