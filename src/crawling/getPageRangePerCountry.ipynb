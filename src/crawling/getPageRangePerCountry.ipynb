{
 "cells": [
  {
   "cell_type": "markdown",
   "metadata": {},
   "source": [
    "# Load libraries"
   ]
  },
  {
   "cell_type": "code",
   "execution_count": 15,
   "metadata": {},
   "outputs": [],
   "source": [
    "from selenium import webdriver\n",
    "from selenium.webdriver.common.keys import Keys\n",
    "from selenium.webdriver.firefox.options import Options\n",
    "from selenium.webdriver.common.by import By\n",
    "from selenium.webdriver.support.ui import WebDriverWait\n",
    "from selenium.webdriver.support import expected_conditions as EC\n",
    "from selenium.common.exceptions import TimeoutException\n",
    "from bs4 import BeautifulSoup\n",
    "import time\n",
    "import matplotlib.pyplot as plt\n",
    "import csv\n",
    "import pandas as pd\n",
    "import requests\n",
    "from PIL import Image\n",
    "from io import BytesIO\n",
    "from IPython.display import display\n",
    "import re\n",
    "from tqdm.notebook import tqdm\n",
    "import networkx as nx"
   ]
  },
  {
   "cell_type": "markdown",
   "metadata": {},
   "source": [
    "# load CSV"
   ]
  },
  {
   "cell_type": "code",
   "execution_count": 2,
   "metadata": {},
   "outputs": [],
   "source": [
    "# load the country_links.csv file with rownames\n",
    "country_links = pd.read_csv('country_links.csv', index_col=0)"
   ]
  },
  {
   "cell_type": "markdown",
   "metadata": {},
   "source": [
    "# Get the page ranges and add it to the df"
   ]
  },
  {
   "cell_type": "code",
   "execution_count": 5,
   "metadata": {},
   "outputs": [],
   "source": [
    "def get_total_pages(s):\n",
    "    match = re.search(r'\\((?:page )?\\d+/(\\d+)\\)', s)\n",
    "    if match:\n",
    "        return int(match.group(1))\n",
    "    else:\n",
    "        return 1\n",
    "\n",
    "def getPageRange(driver, url):\n",
    "    driver.get(url)\n",
    "    time.sleep(1)\n",
    "    soup = BeautifulSoup(driver.page_source, 'html.parser')\n",
    "    # find the id topBlueBarGroupsCatalogLabel and get the content of it\n",
    "    page_range_div = soup.find(id='topBlueBarGroupsCatalogLabel')\n",
    "    if page_range_div:\n",
    "        page_range = page_range_div.get_text()\n",
    "        return get_total_pages(page_range)\n",
    "    else:\n",
    "        return None\n",
    "\n",
    "def login(driver, url):\n",
    "    driver.get(url)\n",
    "\n",
    "    # switch to the iframe\n",
    "    iframe = WebDriverWait(driver, 20).until(EC.presence_of_element_located((By.ID, 'sp_message_iframe_1117340')))\n",
    "    driver.switch_to.frame(iframe)\n",
    "\n",
    "    # accept the cookies\n",
    "    try:\n",
    "        wait = WebDriverWait(driver, 20)  # increase wait time to 20 seconds\n",
    "        button = wait.until(EC.presence_of_element_located((By.XPATH, '//button[@title=\"Accept\" and @aria-label=\"Accept\"]')))  # use more specific XPath\n",
    "        button.click()\n",
    "    except TimeoutException:\n",
    "        print(\"Could not find the Accept button.\")\n",
    "\n",
    "    driver.switch_to.default_content()\n",
    "\n",
    "    time.sleep(1)\n",
    "    # click the login button\n",
    "    driver.find_element(By.ID, 'signIn').click()\n",
    "    time.sleep(1)\n",
    "    # enter username\n",
    "    driver.find_element(By.ID, 'username').send_keys('timo1024')\n",
    "    # enter password\n",
    "    driver.find_element(By.ID, 'password').send_keys('StampworldSecure')\n",
    "    # click the login button\n",
    "    driver.find_element(By.ID, 'loginBtn').click()\n",
    "    time.sleep(1)"
   ]
  },
  {
   "cell_type": "code",
   "execution_count": 9,
   "metadata": {},
   "outputs": [
    {
     "data": {
      "application/vnd.jupyter.widget-view+json": {
       "model_id": "c13788b6e5984af3add3b64e0b92e04d",
       "version_major": 2,
       "version_minor": 0
      },
      "text/plain": [
       "Processing:   0%|          | 0/1179 [00:00<?, ?it/s]"
      ]
     },
     "metadata": {},
     "output_type": "display_data"
    }
   ],
   "source": [
    "country_links.reset_index(drop=True, inplace=True)\n",
    "\n",
    "# make new column for total pages\n",
    "country_links['total_pages'] = 0\n",
    "\n",
    "options = Options()\n",
    "options.headless = False\n",
    "driver = webdriver.Firefox(options=options)\n",
    "\n",
    "# login\n",
    "login(driver, 'https://www.stampworld.com/en/')\n",
    "time.sleep(1)\n",
    "\n",
    "for index, row in tqdm(country_links.iterrows(), total=country_links.shape[0], desc=\"Processing\"):\n",
    "    url = f\"https://www.stampworld.com{row['url']}\"\n",
    "    total_pages = getPageRange(driver, url)\n",
    "    country_links.loc[index, 'total_pages'] = total_pages\n",
    "\n",
    "driver.quit()"
   ]
  },
  {
   "cell_type": "code",
   "execution_count": 11,
   "metadata": {},
   "outputs": [],
   "source": [
    "# drop all rows where total_pages is None\n",
    "country_links.dropna(subset=['total_pages'], inplace=True)\n",
    "\n",
    "country_links.to_csv('country_links_pages.csv')"
   ]
  },
  {
   "cell_type": "markdown",
   "metadata": {},
   "source": [
    "# make plots"
   ]
  },
  {
   "cell_type": "code",
   "execution_count": 12,
   "metadata": {},
   "outputs": [
    {
     "data": {
      "image/png": "[encoded data removed]",
      "text/plain": [
       "<Figure size 640x480 with 1 Axes>"
      ]
     },
     "metadata": {},
     "output_type": "display_data"
    }
   ],
   "source": [
    "# from country_links make plot with total pages per continent\n",
    "continent_pages = country_links.groupby('continent').total_pages.sum()\n",
    "continent_pages.plot(kind='bar')\n",
    "plt.ylabel('Total pages')\n",
    "plt.title('Total pages per continent')\n",
    "plt.show()"
   ]
  },
  {
   "cell_type": "code",
   "execution_count": 14,
   "metadata": {},
   "outputs": [
    {
     "data": {
      "text/html": [
       "<div>\n",
       "<style scoped>\n",
       "    .dataframe tbody tr th:only-of-type {\n",
       "        vertical-align: middle;\n",
       "    }\n",
       "\n",
       "    .dataframe tbody tr th {\n",
       "        vertical-align: top;\n",
       "    }\n",
       "\n",
       "    .dataframe thead th {\n",
       "        text-align: right;\n",
       "    }\n",
       "</style>\n",
       "<table border=\"1\" class=\"dataframe\">\n",
       "  <thead>\n",
       "    <tr style=\"text-align: right;\">\n",
       "      <th></th>\n",
       "      <th>url</th>\n",
       "      <th>parent_countries</th>\n",
       "      <th>continent</th>\n",
       "      <th>total_pages</th>\n",
       "    </tr>\n",
       "  </thead>\n",
       "  <tbody>\n",
       "    <tr>\n",
       "      <th>0</th>\n",
       "      <td>/en/stamps/Aaland/</td>\n",
       "      <td>['Finland']</td>\n",
       "      <td>Europe</td>\n",
       "      <td>12.0</td>\n",
       "    </tr>\n",
       "    <tr>\n",
       "      <th>1</th>\n",
       "      <td>/en/stamps/Aegean-Islands/</td>\n",
       "      <td>['Italy', 'Italian Occupations', 'Aegean Islan...</td>\n",
       "      <td>Europe</td>\n",
       "      <td>4.0</td>\n",
       "    </tr>\n",
       "    <tr>\n",
       "      <th>2</th>\n",
       "      <td>/en/stamps/Calimno/</td>\n",
       "      <td>['Italy', 'Italian Occupations', 'Aegean Islan...</td>\n",
       "      <td>Europe</td>\n",
       "      <td>1.0</td>\n",
       "    </tr>\n",
       "    <tr>\n",
       "      <th>3</th>\n",
       "      <td>/en/stamps/Caso/</td>\n",
       "      <td>['Italy', 'Italian Occupations', 'Aegean Islan...</td>\n",
       "      <td>Europe</td>\n",
       "      <td>1.0</td>\n",
       "    </tr>\n",
       "    <tr>\n",
       "      <th>4</th>\n",
       "      <td>/en/stamps/Castelrosso/</td>\n",
       "      <td>['Italy', 'Italian Occupations', 'Aegean Islan...</td>\n",
       "      <td>Europe</td>\n",
       "      <td>1.0</td>\n",
       "    </tr>\n",
       "    <tr>\n",
       "      <th>...</th>\n",
       "      <td>...</td>\n",
       "      <td>...</td>\n",
       "      <td>...</td>\n",
       "      <td>...</td>\n",
       "    </tr>\n",
       "    <tr>\n",
       "      <th>1174</th>\n",
       "      <td>/en/stamps/Nukulaelae/</td>\n",
       "      <td>['Tuvalu']</td>\n",
       "      <td>Oceania</td>\n",
       "      <td>3.0</td>\n",
       "    </tr>\n",
       "    <tr>\n",
       "      <th>1175</th>\n",
       "      <td>/en/stamps/Vaitupu/</td>\n",
       "      <td>['Tuvalu']</td>\n",
       "      <td>Oceania</td>\n",
       "      <td>3.0</td>\n",
       "    </tr>\n",
       "    <tr>\n",
       "      <th>1176</th>\n",
       "      <td>/en/stamps/Gilbert-and-Ellice-Islands/</td>\n",
       "      <td>['Tuvalu']</td>\n",
       "      <td>Oceania</td>\n",
       "      <td>5.0</td>\n",
       "    </tr>\n",
       "    <tr>\n",
       "      <th>1177</th>\n",
       "      <td>/en/stamps/Vanuatu/</td>\n",
       "      <td>['Vanuatu']</td>\n",
       "      <td>Oceania</td>\n",
       "      <td>21.0</td>\n",
       "    </tr>\n",
       "    <tr>\n",
       "      <th>1178</th>\n",
       "      <td>/en/stamps/New-Hebrides/</td>\n",
       "      <td>['Vanuatu']</td>\n",
       "      <td>Oceania</td>\n",
       "      <td>12.0</td>\n",
       "    </tr>\n",
       "  </tbody>\n",
       "</table>\n",
       "<p>1178 rows × 4 columns</p>\n",
       "</div>"
      ],
      "text/plain": [
       "                                         url  \\\n",
       "0                         /en/stamps/Aaland/   \n",
       "1                 /en/stamps/Aegean-Islands/   \n",
       "2                        /en/stamps/Calimno/   \n",
       "3                           /en/stamps/Caso/   \n",
       "4                    /en/stamps/Castelrosso/   \n",
       "...                                      ...   \n",
       "1174                  /en/stamps/Nukulaelae/   \n",
       "1175                     /en/stamps/Vaitupu/   \n",
       "1176  /en/stamps/Gilbert-and-Ellice-Islands/   \n",
       "1177                     /en/stamps/Vanuatu/   \n",
       "1178                /en/stamps/New-Hebrides/   \n",
       "\n",
       "                                       parent_countries continent  total_pages  \n",
       "0                                           ['Finland']    Europe         12.0  \n",
       "1     ['Italy', 'Italian Occupations', 'Aegean Islan...    Europe          4.0  \n",
       "2     ['Italy', 'Italian Occupations', 'Aegean Islan...    Europe          1.0  \n",
       "3     ['Italy', 'Italian Occupations', 'Aegean Islan...    Europe          1.0  \n",
       "4     ['Italy', 'Italian Occupations', 'Aegean Islan...    Europe          1.0  \n",
       "...                                                 ...       ...          ...  \n",
       "1174                                         ['Tuvalu']   Oceania          3.0  \n",
       "1175                                         ['Tuvalu']   Oceania          3.0  \n",
       "1176                                         ['Tuvalu']   Oceania          5.0  \n",
       "1177                                        ['Vanuatu']   Oceania         21.0  \n",
       "1178                                        ['Vanuatu']   Oceania         12.0  \n",
       "\n",
       "[1178 rows x 4 columns]"
      ]
     },
     "execution_count": 14,
     "metadata": {},
     "output_type": "execute_result"
    }
   ],
   "source": [
    "country_links"
   ]
  }
 ],
 "metadata": {
  "kernelspec": {
   "display_name": "Python 3",
   "language": "python",
   "name": "python3"
  },
  "language_info": {
   "codemirror_mode": {
    "name": "ipython",
    "version": 3
   },
   "file_extension": ".py",
   "mimetype": "text/x-python",
   "name": "python",
   "nbconvert_exporter": "python",
   "pygments_lexer": "ipython3",
   "version": "3.12.4"
  }
 },
 "nbformat": 4,
 "nbformat_minor": 2
}
