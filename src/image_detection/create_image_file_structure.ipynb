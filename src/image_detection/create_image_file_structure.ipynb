{
 "cells": [
  {
   "cell_type": "code",
   "execution_count": 15,
   "metadata": {},
   "outputs": [],
   "source": [
    "# load libraries\n",
    "import numpy as np\n",
    "import pandas as pd\n",
    "import random\n",
    "import matplotlib.pyplot as plt\n",
    "import os\n",
    "import sys\n",
    "import argparse\n",
    "import re\n",
    "import glob\n",
    "import matplotlib\n",
    "from matplotlib import rc\n",
    "from matplotlib.ticker import MaxNLocator\n",
    "from matplotlib import rcParams\n",
    "from matplotlib import cm\n",
    "from matplotlib.colors import ListedColormap\n",
    "from matplotlib.colors import Normalize\n",
    "from matplotlib.colorbar import ColorbarBase\n",
    "from matplotlib import colors\n",
    "from matplotlib import colorbar\n",
    "from matplotlib import patches\n",
    "from matplotlib import lines\n",
    "from matplotlib import gridspec\n",
    "from matplotlib import ticker\n",
    "from matplotlib import transforms\n",
    "from matplotlib import font_manager\n",
    "from matplotlib import animation\n",
    "from matplotlib import rcParams\n",
    "from matplotlib import rc\n",
    "from matplotlib import dates\n",
    "from PIL import Image, ImageEnhance, ImageFilter, ImageDraw\n",
    "import cv2\n",
    "import tensorflow as tf\n",
    "from tensorflow.keras import layers, Model\n",
    "from tensorflow.keras.applications import ResNet50\n",
    "from tensorflow.keras.layers import Input, Dense, Lambda\n",
    "from tensorflow.keras.models import Model\n",
    "import tensorflow.keras.backend as K\n",
    "import os\n",
    "import shutil\n",
    "from IPython.display import clear_output\n",
    "import time"
   ]
  },
  {
   "cell_type": "markdown",
   "metadata": {},
   "source": [
    "# Save images in same folder as notebook\n",
    "\n",
    "load images and change name of the image file to include the path [country]/[set_id]/[image_id].jpg to [country]_[set_id]_[image_id].jpg  \n",
    "And save them in the original directory"
   ]
  },
  {
   "cell_type": "code",
   "execution_count": 20,
   "metadata": {},
   "outputs": [
    {
     "name": "stdout",
     "output_type": "stream",
     "text": [
      "Progress:  433000\n"
     ]
    }
   ],
   "source": [
    "# loop through all image in directory ../crawling/images_all/ and the subfolders are the country and then the set id\n",
    "image_directory = \"../crawling/images_all/\"\n",
    "\n",
    "counter = 0\n",
    "\n",
    "# 604444 images\n",
    "for root, dirs, files in os.walk(image_directory):\n",
    "\n",
    "    # loop through all files in the directory and copy them to the images/original folder and rename them with the country and set id\n",
    "    for file in files:\n",
    "\n",
    "        if file.endswith(\".jpg\"):\n",
    "\n",
    "            if(counter >= 433000):\n",
    "\n",
    "                country = root.split(\"\\\\\")[-2].split(\"/\")[-1]\n",
    "                set_id = root.split(\"\\\\\")[-1]\n",
    "\n",
    "                # print(country, set_id)\n",
    "\n",
    "                image_path = os.path.join(root, file)\n",
    "                new_image_path = os.path.join(\"./images/original\", country + \"_\" + set_id + \"_\" + file)\n",
    "                shutil.copyfile(image_path, new_image_path)\n",
    "\n",
    "                if counter % 1000 == 0:\n",
    "                    clear_output()\n",
    "                    print(\"Progress: \", counter)\n",
    "\n",
    "            counter += 1\n",
    "\n",
    "print(f\"Done after {counter} images\")\n"
   ]
  }
 ],
 "metadata": {
  "kernelspec": {
   "display_name": "Python 3",
   "language": "python",
   "name": "python3"
  },
  "language_info": {
   "codemirror_mode": {
    "name": "ipython",
    "version": 3
   },
   "file_extension": ".py",
   "mimetype": "text/x-python",
   "name": "python",
   "nbconvert_exporter": "python",
   "pygments_lexer": "ipython3",
   "version": "3.12.5"
  }
 },
 "nbformat": 4,
 "nbformat_minor": 2
}
