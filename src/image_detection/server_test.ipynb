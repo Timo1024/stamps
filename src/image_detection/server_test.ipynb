{
 "cells": [
  {
   "cell_type": "code",
   "execution_count": 7,
   "metadata": {},
   "outputs": [],
   "source": [
    "from flask import Flask, request, jsonify, send_file\n",
    "import os\n",
    "import numpy as np\n",
    "import tensorflow as tf\n",
    "from tensorflow.keras.applications.resnet50 import ResNet50, preprocess_input\n",
    "from PIL import Image\n",
    "from sklearn.neighbors import NearestNeighbors\n",
    "from io import BytesIO"
   ]
  },
  {
   "cell_type": "code",
   "execution_count": 8,
   "metadata": {},
   "outputs": [],
   "source": [
    "def load_embeddings(embedding_file):\n",
    "    return np.load(embedding_file, allow_pickle=True).item()"
   ]
  },
  {
   "cell_type": "code",
   "execution_count": 9,
   "metadata": {},
   "outputs": [],
   "source": [
    "class MyServer:\n",
    "    def __init__(self, database_embeddings=None):\n",
    "        self.app = Flask(__name__)\n",
    "        self.database_embeddings = database_embeddings\n",
    "        self.db_matrix = None\n",
    "        self.model = None\n",
    "        self.nbrs = None\n",
    "        self.setup_routes()\n",
    "        self.load_model_and_embeddings()\n",
    "\n",
    "    def setup_routes(self):\n",
    "        @self.app.route('/search', methods=['POST'])\n",
    "        def search():\n",
    "            if 'image' not in request.files:\n",
    "                return jsonify({\"error\": \"No image uploaded\"}), 400\n",
    "            \n",
    "            file = request.files['image']\n",
    "            if file.filename == '':\n",
    "                return jsonify({\"error\": \"No image selected for uploading\"}), 400\n",
    "\n",
    "            # Save the uploaded file temporarily\n",
    "            img_path = './temp_upload.jpg'\n",
    "            file.save(img_path)\n",
    "            \n",
    "            # Get the embedding of the uploaded image\n",
    "            input_embedding = self.get_image_embedding(img_path)\n",
    "            \n",
    "            # Find the closest images\n",
    "            closest_images = self.find_closest_images_approx(input_embedding, top_k=5)\n",
    "            \n",
    "            # Optionally delete the temporary file\n",
    "            os.remove(img_path)\n",
    "\n",
    "            # Create a list of image files to return\n",
    "            image_files = []\n",
    "            for img_path in closest_images:\n",
    "                image_files.append(img_path)\n",
    "\n",
    "            # Return the actual images in the response\n",
    "            return jsonify({\"similar_images\": image_files})\n",
    "\n",
    "        @self.app.route('/images/<path:filename>', methods=['GET'])\n",
    "        def get_image(filename):\n",
    "            # Serve the image file\n",
    "            return send_file(filename, mimetype='image/jpeg')\n",
    "\n",
    "    def load_model_and_embeddings(self):\n",
    "        print(\"Converting to matrix...\")\n",
    "\n",
    "        # Convert the embeddings to a matrix for easier distance computation\n",
    "        self.db_matrix = np.vstack(list(self.database_embeddings.values()))\n",
    "        self.db_matrix /= np.linalg.norm(self.db_matrix, axis=1)[:, np.newaxis]\n",
    "\n",
    "        print(\"Converted to matrix successfully.\")\n",
    "\n",
    "        # Use NearestNeighbors to find approximate nearest neighbors\n",
    "        self.nbrs = NearestNeighbors(n_neighbors=10, algorithm='auto').fit(self.db_matrix)\n",
    "\n",
    "        print(\"Built NearestNeighbors model successfully.\")\n",
    "\n",
    "        # Load the ResNet50 model\n",
    "        self.model = ResNet50(weights='imagenet', include_top=False, pooling='avg')\n",
    "\n",
    "        print(\"Loaded ResNet50 model successfully.\")\n",
    "\n",
    "    def get_image_embedding(self, img_path):\n",
    "        img = Image.open(img_path).resize((224, 224))\n",
    "        x = np.array(img, dtype=np.float32)\n",
    "        x = np.expand_dims(x, axis=0)\n",
    "        x = preprocess_input(x)\n",
    "\n",
    "        embedding = self.model.predict(x)\n",
    "        return embedding\n",
    "\n",
    "    def find_closest_images_approx(self, input_embedding, top_k=10):\n",
    "        # Normalize the input embedding\n",
    "        input_embedding = input_embedding.flatten()\n",
    "        input_embedding /= np.linalg.norm(input_embedding)\n",
    "\n",
    "        # Use NearestNeighbors to find approximate nearest neighbors\n",
    "        distances, indices = self.nbrs.kneighbors([input_embedding])\n",
    "\n",
    "        # Get the paths of the closest images\n",
    "        closest_images = [list(self.database_embeddings.keys())[i] for i in indices[0]]\n",
    "\n",
    "        return closest_images"
   ]
  },
  {
   "cell_type": "code",
   "execution_count": 10,
   "metadata": {},
   "outputs": [
    {
     "name": "stdout",
     "output_type": "stream",
     "text": [
      "Loading embeddings...\n",
      "Loaded embeddings successfully.\n",
      "Converting to matrix...\n",
      "Converted to matrix successfully.\n",
      "Built NearestNeighbors model successfully.\n",
      "Loaded ResNet50 model successfully.\n",
      " * Serving Flask app '__main__'\n",
      " * Debug mode: on\n"
     ]
    },
    {
     "name": "stderr",
     "output_type": "stream",
     "text": [
      "WARNING: This is a development server. Do not use it in a production deployment. Use a production WSGI server instead.\n",
      " * Running on all addresses (0.0.0.0)\n",
      " * Running on http://127.0.0.1:6014\n",
      " * Running on http://192.168.178.22:6014\n",
      "Press CTRL+C to quit\n",
      " * Restarting with stat\n"
     ]
    },
    {
     "ename": "SystemExit",
     "evalue": "1",
     "output_type": "error",
     "traceback": [
      "An exception has occurred, use %tb to see the full traceback.\n",
      "\u001b[1;31mSystemExit\u001b[0m\u001b[1;31m:\u001b[0m 1\n"
     ]
    },
    {
     "name": "stderr",
     "output_type": "stream",
     "text": [
      "C:\\Users\\Robin\\AppData\\Local\\Packages\\PythonSoftwareFoundation.Python.3.12_qbz5n2kfra8p0\\LocalCache\\local-packages\\Python312\\site-packages\\IPython\\core\\interactiveshell.py:3585: UserWarning: To exit: use 'exit', 'quit', or Ctrl-D.\n",
      "  warn(\"To exit: use 'exit', 'quit', or Ctrl-D.\", stacklevel=1)\n"
     ]
    }
   ],
   "source": [
    "if __name__ == '__main__':\n",
    "    print(\"Loading embeddings...\")\n",
    "    database_embeddings = load_embeddings('database_embeddings_all.npy')\n",
    "    print(\"Loaded embeddings successfully.\")\n",
    "    server = MyServer(database_embeddings)\n",
    "    server.app.run(host='0.0.0.0', port=6014, debug=True)"
   ]
  }
 ],
 "metadata": {
  "kernelspec": {
   "display_name": "Python 3",
   "language": "python",
   "name": "python3"
  },
  "language_info": {
   "codemirror_mode": {
    "name": "ipython",
    "version": 3
   },
   "file_extension": ".py",
   "mimetype": "text/x-python",
   "name": "python",
   "nbconvert_exporter": "python",
   "pygments_lexer": "ipython3",
   "version": "3.12.5"
  }
 },
 "nbformat": 4,
 "nbformat_minor": 2
}
