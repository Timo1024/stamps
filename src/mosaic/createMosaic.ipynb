{
 "cells": [
  {
   "cell_type": "code",
   "execution_count": 1,
   "metadata": {},
   "outputs": [],
   "source": [
    "from selenium import webdriver\n",
    "from selenium.webdriver.common.keys import Keys\n",
    "from selenium.webdriver.firefox.options import Options\n",
    "from selenium.webdriver.common.by import By\n",
    "from selenium.webdriver.support.ui import WebDriverWait\n",
    "from selenium.webdriver.support import expected_conditions as EC\n",
    "from selenium.common.exceptions import TimeoutException, NoSuchElementException\n",
    "from bs4 import BeautifulSoup\n",
    "import time\n",
    "import matplotlib.pyplot as plt\n",
    "import csv\n",
    "import pandas as pd\n",
    "import requests\n",
    "from PIL import Image\n",
    "from io import BytesIO\n",
    "from IPython.display import display\n",
    "import re\n",
    "from tqdm.notebook import tqdm\n",
    "import networkx as nx\n",
    "import numpy as np\n",
    "from datetime import datetime, timedelta\n",
    "import os\n",
    "from PIL import ImageFile"
   ]
  },
  {
   "cell_type": "markdown",
   "metadata": {},
   "source": [
    "# Make a df from images"
   ]
  },
  {
   "cell_type": "code",
   "execution_count": 32,
   "metadata": {},
   "outputs": [],
   "source": [
    "def get_image_info(image_path):\n",
    "    with Image.open(image_path) as img:\n",
    "        width, height = img.size\n",
    "        avg_color = np.array(img).mean(axis=(0, 1)).astype(int)\n",
    "        avg_color_hex = '#{:02x}{:02x}{:02x}'.format(*avg_color[:3])\n",
    "        return (width, height), avg_color_hex\n",
    "\n",
    "def create_image_df(root_folder, cutoff=1000):\n",
    "    data = []\n",
    "    # for subdir, _, files in os.walk(root_folder):\n",
    "    counter = 0\n",
    "    for subdir, _, files in tqdm(os.walk(root_folder), desc='Processing images'):\n",
    "        for file in files:\n",
    "            if file.lower().endswith(('.jpg')):\n",
    "                image_path = os.path.join(subdir, file)\n",
    "                dimensions, avg_color = get_image_info(image_path)\n",
    "                data.append([image_path, dimensions, avg_color])\n",
    "                counter += 1\n",
    "            if counter > cutoff:\n",
    "                break\n",
    "        if counter > cutoff:\n",
    "            break\n",
    "    \n",
    "    df = pd.DataFrame(data, columns=['Path', 'Dimensions', 'Average Color'])\n",
    "    return df"
   ]
  },
  {
   "cell_type": "code",
   "execution_count": 33,
   "metadata": {},
   "outputs": [
    {
     "data": {
      "application/vnd.jupyter.widget-view+json": {
       "model_id": "79d906f3b66248a7954f3d47510ea741",
       "version_major": 2,
       "version_minor": 0
      },
      "text/plain": [
       "Processing images: 0it [00:00, ?it/s]"
      ]
     },
     "metadata": {},
     "output_type": "display_data"
    }
   ],
   "source": [
    "# Define the root folder\n",
    "root_folder = '../crawling/images_all/'\n",
    "\n",
    "# Create the DataFrame\n",
    "df = create_image_df(root_folder, cutoff = 10000)\n",
    "\n",
    "# Save the DataFrame to a CSV file\n",
    "df.to_csv('image_data.csv', index=False)"
   ]
  },
  {
   "cell_type": "markdown",
   "metadata": {},
   "source": [
    "# make mosaic"
   ]
  },
  {
   "cell_type": "code",
   "execution_count": 21,
   "metadata": {},
   "outputs": [],
   "source": [
    "def get_average_color(image):\n",
    "    return np.array(image).mean(axis=(0, 1)).astype(int)\n",
    "\n",
    "def convert_color(color):\n",
    "    if isinstance(color, str) and color.startswith('#'):\n",
    "        return tuple(int(color[i:i+2], 16) for i in (1, 3, 5))\n",
    "    return eval(color)\n",
    "\n",
    "def find_closest_image(avg_color, df):\n",
    "    df['Color Distance'] = df['Average Color'].apply(lambda x: np.linalg.norm(np.array(x) - avg_color))\n",
    "    return df.loc[df['Color Distance'].idxmin()]['Path']\n",
    "\n",
    "def create_mosaic(target_image_path, df):\n",
    "    target_image = Image.open(target_image_path)\n",
    "    target_width, target_height = target_image.size\n",
    "    mosaic_image = Image.new('RGB', (target_width, target_height))\n",
    "\n",
    "    x, y = 0, 0\n",
    "    while y < target_height:\n",
    "        while x < target_width:\n",
    "            avg_color = get_average_color(target_image.crop((x, y, x + 1, y + 1)))\n",
    "            closest_image_path = find_closest_image(avg_color, df)\n",
    "            closest_image = Image.open(closest_image_path)\n",
    "            img_width, img_height = closest_image.size\n",
    "\n",
    "            if x + img_width > target_width:\n",
    "                img_width = target_width - x\n",
    "            if y + img_height > target_height:\n",
    "                img_height = target_height - y\n",
    "\n",
    "            closest_image = closest_image.resize((img_width, img_height), Image.LANCZOS)\n",
    "            mosaic_image.paste(closest_image, (x, y))\n",
    "\n",
    "            x += img_width\n",
    "        x = 0\n",
    "        y += img_height\n",
    "\n",
    "    return mosaic_image"
   ]
  },
  {
   "cell_type": "code",
   "execution_count": 22,
   "metadata": {},
   "outputs": [],
   "source": [
    "# Load the DataFrame\n",
    "df = pd.read_csv('image_data.csv')\n",
    "\n",
    "df['Average Color'] = df['Average Color'].apply(convert_color)\n",
    "\n",
    "# Define the target image path and tile size\n",
    "target_image_path = './images/DJI_0153.JPG'\n",
    "\n",
    "# Create the mosaic\n",
    "mosaic_image = create_mosaic(target_image_path, df)\n",
    "\n",
    "# Save the mosaic image\n",
    "mosaic_image.save('mosaic_image.jpg')"
   ]
  },
  {
   "cell_type": "markdown",
   "metadata": {},
   "source": [
    "# other approach"
   ]
  },
  {
   "cell_type": "code",
   "execution_count": 36,
   "metadata": {},
   "outputs": [],
   "source": [
    "def get_average_color(image):\n",
    "    return np.array(image).mean(axis=(0, 1)).astype(int)\n",
    "\n",
    "def convert_color(color):\n",
    "    if isinstance(color, str) and color.startswith('#'):\n",
    "        return tuple(int(color[i:i+2], 16) for i in (1, 3, 5))\n",
    "    return eval(color)\n",
    "\n",
    "def find_closest_image(avg_color, df):\n",
    "    df['Color Distance'] = df['Average Color'].apply(lambda x: np.linalg.norm(np.array(x) - avg_color))\n",
    "    return df.loc[df['Color Distance'].idxmin()]['Path']\n",
    "\n",
    "# def create_mosaic(target_image_path, df, tile_size):\n",
    "#     target_image = Image.open(target_image_path)\n",
    "#     target_width, target_height = target_image.size\n",
    "#     mosaic_image = Image.new('RGB', (target_width, target_height))\n",
    "\n",
    "#     for y in range(0, target_height, tile_size[1]):\n",
    "#         for x in range(0, target_width, tile_size[0]):\n",
    "#             box = (x, y, x + tile_size[0], y + tile_size[1])\n",
    "#             tile = target_image.crop(box)\n",
    "#             avg_color = get_average_color(tile)\n",
    "#             closest_image_path = find_closest_image(avg_color, df)\n",
    "#             closest_image = Image.open(closest_image_path)\n",
    "#             closest_image = closest_image.resize(tile_size, Image.LANCZOS)\n",
    "#             mosaic_image.paste(closest_image, box)\n",
    "\n",
    "#     return mosaic_image\n",
    "\n",
    "def create_mosaic(target_image_path, df, tile_size):\n",
    "    target_image = Image.open(target_image_path)\n",
    "    target_width, target_height = target_image.size\n",
    "    mosaic_image = Image.new('RGB', (target_width, target_height))\n",
    "\n",
    "    for y in tqdm(range(0, target_height, tile_size[1]), desc=\"Rows\"):\n",
    "        for x in range(0, target_width, tile_size[0]):\n",
    "            box = (x, y, x + tile_size[0], y + tile_size[1])\n",
    "            tile = target_image.crop(box)\n",
    "            avg_color = get_average_color(tile)\n",
    "            closest_image_path = find_closest_image(avg_color, df)\n",
    "            closest_image = Image.open(closest_image_path)\n",
    "            closest_image = closest_image.resize(tile_size, Image.LANCZOS)\n",
    "\n",
    "            # Create a new image with the average color as the background\n",
    "            background = Image.new('RGB', tile_size, tuple(avg_color))\n",
    "            background.paste(closest_image, (0, 0))\n",
    "\n",
    "            mosaic_image.paste(background, box)\n",
    "\n",
    "    return mosaic_image"
   ]
  },
  {
   "cell_type": "code",
   "execution_count": 37,
   "metadata": {},
   "outputs": [
    {
     "data": {
      "application/vnd.jupyter.widget-view+json": {
       "model_id": "40e82027e779408eb4073138105c2d93",
       "version_major": 2,
       "version_minor": 0
      },
      "text/plain": [
       "Rows:   0%|          | 0/183 [00:00<?, ?it/s]"
      ]
     },
     "metadata": {},
     "output_type": "display_data"
    }
   ],
   "source": [
    "# Load the DataFrame\n",
    "df = pd.read_csv('image_data.csv')\n",
    "\n",
    "# Convert Average Color from hex or string representation to tuple\n",
    "df['Average Color'] = df['Average Color'].apply(convert_color)\n",
    "\n",
    "# Define the target image path and tile size\n",
    "target_image_path = './images/DJI_0153.JPG'\n",
    "tile_size = (20, 20)  # Adjust the tile size to be smaller\n",
    "\n",
    "# Create the mosaic\n",
    "mosaic_image = create_mosaic(target_image_path, df, tile_size)\n",
    "\n",
    "# Save the mosaic image\n",
    "mosaic_image.save('mosaic_image_4.jpg')"
   ]
  },
  {
   "cell_type": "markdown",
   "metadata": {},
   "source": [
    "## with rescaling"
   ]
  },
  {
   "cell_type": "code",
   "execution_count": 45,
   "metadata": {},
   "outputs": [],
   "source": [
    "def get_average_color(image):\n",
    "    avg_color = np.array(image).mean(axis=(0, 1)).astype(int)\n",
    "    if len(avg_color) == 4:  # If the image has an alpha channel\n",
    "        avg_color = avg_color[:3]  # Discard the alpha channel\n",
    "    return avg_color\n",
    "\n",
    "\n",
    "def convert_color(color):\n",
    "    if isinstance(color, str) and color.startswith('#'):\n",
    "        return tuple(int(color[i:i+2], 16) for i in (1, 3, 5))\n",
    "    return eval(color)\n",
    "\n",
    "def find_closest_image(avg_color, df):\n",
    "    df['Color Distance'] = df['Average Color'].apply(lambda x: np.linalg.norm(np.array(x) - avg_color))\n",
    "    return df.loc[df['Color Distance'].idxmin()]['Path']\n",
    "\n",
    "def create_mosaic(target_image_path, df, tile_size, upscale_factor=2):\n",
    "    target_image = Image.open(target_image_path)\n",
    "    target_width, target_height = target_image.size\n",
    "\n",
    "    # Resize the target image to a higher resolution\n",
    "    target_image = target_image.resize((target_width * upscale_factor, target_height * upscale_factor), Image.LANCZOS)\n",
    "    target_width, target_height = target_image.size\n",
    "\n",
    "    mosaic_image = Image.new('RGB', (target_width, target_height))\n",
    "\n",
    "    for y in tqdm(range(0, target_height, tile_size[1]), desc=\"Rows\"):\n",
    "        for x in range(0, target_width, tile_size[0]):\n",
    "            box = (x, y, x + tile_size[0], y + tile_size[1])\n",
    "            tile = target_image.crop(box)\n",
    "            avg_color = get_average_color(tile)\n",
    "            closest_image_path = find_closest_image(avg_color, df)\n",
    "            closest_image = Image.open(closest_image_path)\n",
    "            closest_image = closest_image.resize(tile_size, Image.LANCZOS)\n",
    "\n",
    "            # Create a new image with the average color as the background\n",
    "            background = Image.new('RGB', tile_size, tuple(avg_color))\n",
    "            background.paste(closest_image, (0, 0))\n",
    "\n",
    "            mosaic_image.paste(background, box)\n",
    "\n",
    "    return mosaic_image"
   ]
  },
  {
   "cell_type": "code",
   "execution_count": 46,
   "metadata": {},
   "outputs": [
    {
     "data": {
      "application/vnd.jupyter.widget-view+json": {
       "model_id": "c5a2235410ef4480adadb998fd4871da",
       "version_major": 2,
       "version_minor": 0
      },
      "text/plain": [
       "Rows:   0%|          | 0/103 [00:00<?, ?it/s]"
      ]
     },
     "metadata": {},
     "output_type": "display_data"
    }
   ],
   "source": [
    "# Load the DataFrame\n",
    "df = pd.read_csv('image_data.csv')\n",
    "\n",
    "# Convert Average Color from hex or string representation to tuple\n",
    "df['Average Color'] = df['Average Color'].apply(convert_color)\n",
    "\n",
    "# Define the target image path and tile size\n",
    "target_image_path = './images/wp10165109.png'\n",
    "# target_image_path = './images/DJI_0153.JPG'\n",
    "tile_size = (80, 80)  # Adjust the tile size to be smaller\n",
    "# tile_size = (160, 160)  # Adjust the tile size to be smaller\n",
    "\n",
    "# Create the mosaic with a higher resolution\n",
    "mosaic_image = create_mosaic(target_image_path, df, tile_size, upscale_factor=4)\n",
    "# mosaic_image = create_mosaic(target_image_path, df, tile_size, upscale_factor=8)\n",
    "\n",
    "# Save the mosaic image\n",
    "mosaic_image.save('mosaic_image_genshin_1.jpg')"
   ]
  },
  {
   "cell_type": "markdown",
   "metadata": {},
   "source": [
    "# plot colors"
   ]
  },
  {
   "cell_type": "code",
   "execution_count": 35,
   "metadata": {},
   "outputs": [
    {
     "data": {
      "image/png": "[encoded data removed]",
      "text/plain": [
       "<Figure size 1000x1000 with 1 Axes>"
      ]
     },
     "metadata": {},
     "output_type": "display_data"
    }
   ],
   "source": [
    "# Load the CSV file\n",
    "df = pd.read_csv('image_data.csv')\n",
    "\n",
    "# Convert Average Color from hex or string representation to tuple\n",
    "def convert_color(color):\n",
    "    if isinstance(color, str) and color.startswith('#'):\n",
    "        return tuple(int(color[i:i+2], 16) for i in (1, 3, 5))\n",
    "    return eval(color)\n",
    "\n",
    "df['Average Color'] = df['Average Color'].apply(convert_color)\n",
    "\n",
    "# Normalize the colors to be within 0-1 range\n",
    "def normalize_color(color):\n",
    "    return tuple(c / 255.0 for c in color)\n",
    "\n",
    "df['Normalized Color'] = df['Average Color'].apply(normalize_color)\n",
    "\n",
    "# Extract the normalized colors\n",
    "colors = df['Normalized Color'].tolist()\n",
    "\n",
    "# Plot the colors\n",
    "plt.figure(figsize=(10, 10))\n",
    "for i, color in enumerate(colors):\n",
    "    plt.scatter(i, 0, color=[color], s=100)\n",
    "\n",
    "plt.title('Colors from CSV')\n",
    "plt.xlabel('Image Index')\n",
    "plt.ylabel('Color')\n",
    "plt.show()"
   ]
  }
 ],
 "metadata": {
  "kernelspec": {
   "display_name": ".venv",
   "language": "python",
   "name": "python3"
  },
  "language_info": {
   "codemirror_mode": {
    "name": "ipython",
    "version": 3
   },
   "file_extension": ".py",
   "mimetype": "text/x-python",
   "name": "python",
   "nbconvert_exporter": "python",
   "pygments_lexer": "ipython3",
   "version": "3.11.9"
  }
 },
 "nbformat": 4,
 "nbformat_minor": 2
}
