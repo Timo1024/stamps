{
 "cells": [
  {
   "cell_type": "code",
   "execution_count": 15,
   "metadata": {},
   "outputs": [],
   "source": [
    "import cv2\n",
    "import numpy as np\n",
    "from sklearn.decomposition import PCA\n",
    "from sklearn.cluster import KMeans, DBSCAN\n",
    "import matplotlib.pyplot as plt\n",
    "from sklearn.metrics import silhouette_score\n",
    "import pandas as pd\n",
    "import requests\n",
    "from PIL import Image\n",
    "from io import BytesIO\n",
    "from skimage.io import imread\n",
    "from colorthief import ColorThief\n",
    "import os\n",
    "from tqdm.auto import tqdm\n",
    "from PIL import ImageFile"
   ]
  },
  {
   "cell_type": "code",
   "execution_count": 16,
   "metadata": {},
   "outputs": [],
   "source": [
    "# Allow loading of truncated images\n",
    "ImageFile.LOAD_TRUNCATED_IMAGES = True"
   ]
  },
  {
   "cell_type": "markdown",
   "metadata": {},
   "source": [
    "# Get colors from images"
   ]
  },
  {
   "cell_type": "code",
   "execution_count": 2,
   "metadata": {},
   "outputs": [
    {
     "name": "stdout",
     "output_type": "stream",
     "text": [
      "111\n"
     ]
    }
   ],
   "source": [
    "# get all files in ../../crawling/contents_merged/batches_with_images\n",
    "files = os.listdir('../../crawling/contents_merged/batches_with_images')\n",
    "print(len(files))"
   ]
  },
  {
   "cell_type": "code",
   "execution_count": 6,
   "metadata": {},
   "outputs": [],
   "source": [
    "def extract_palette(image_path, num_colors):\n",
    "    color_thief = ColorThief(image_path)\n",
    "    palette = color_thief.get_palette(color_count=num_colors)\n",
    "    return palette\n",
    "\n",
    "def get_image_colors(image_path):\n",
    "    num_colors = 5\n",
    "    colors = extract_palette(image_path, num_colors)\n",
    "\n",
    "    # convert colors to hex\n",
    "    colors = [f'#{color[0]:02x}{color[1]:02x}{color[2]:02x}' for color in colors]\n",
    "    return colors"
   ]
  },
  {
   "cell_type": "code",
   "execution_count": 22,
   "metadata": {},
   "outputs": [
    {
     "data": {
      "application/vnd.jupyter.widget-view+json": {
       "model_id": "bdd7ca1882ca433a948433f0d367f14d",
       "version_major": 2,
       "version_minor": 0
      },
      "text/plain": [
       "  0%|          | 0/2 [00:00<?, ?it/s]"
      ]
     },
     "metadata": {},
     "output_type": "display_data"
    },
    {
     "data": {
      "application/vnd.jupyter.widget-view+json": {
       "model_id": "9741e2c984df429690906de777df5d6e",
       "version_major": 2,
       "version_minor": 0
      },
      "text/plain": [
       "Processing Batch 109:   0%|          | 0/10000 [00:00<?, ?it/s]"
      ]
     },
     "metadata": {},
     "output_type": "display_data"
    },
    {
     "data": {
      "application/vnd.jupyter.widget-view+json": {
       "model_id": "930ede550984471aa1156a19ae0f29bd",
       "version_major": 2,
       "version_minor": 0
      },
      "text/plain": [
       "Processing Batch 110:   0%|          | 0/7474 [00:00<?, ?it/s]"
      ]
     },
     "metadata": {},
     "output_type": "display_data"
    }
   ],
   "source": [
    "# loop over files and load them as a df\n",
    "start_file = 109\n",
    "batch_number = start_file\n",
    "for file in tqdm(files[start_file:], total=len(files[start_file:]), leave=False):\n",
    "    df = pd.read_csv(f'../../crawling/contents_merged/batches_with_images/{file}')\n",
    "    \n",
    "    # loop over rows and extract color palette (use tqdm)\n",
    "    for index, row in tqdm(df.iterrows(), total=df.shape[0], desc=f\"Processing Batch {batch_number}\", leave=False):\n",
    "        try:\n",
    "            if str(row['Image_Path']) != \"nan\":\n",
    "                colors = get_image_colors(\"../../crawling\" + row['Image_Path'][1:])\n",
    "                df.loc[index, 'Color_Palette'] = str(colors)\n",
    "            else:\n",
    "                df.loc[index, 'Color_Palette'] = None\n",
    "        except Exception as e:\n",
    "            print(f'Error at index {index} with path: {row[\"Image_Path\"]} and URL: {row[\"Image_URL\"]}')\n",
    "            raise e\n",
    "\n",
    "    batch_number += 1\n",
    "\n",
    "    # save df to csv to ../../crawling/contents_merged/batches_with_image_colors/\n",
    "    df.to_csv(f'../../crawling/contents_merged/batches_with_image_colors/{file}', index=False)"
   ]
  },
  {
   "cell_type": "code",
   "execution_count": 20,
   "metadata": {},
   "outputs": [],
   "source": [
    "# test_df =pd.read_csv(f'../../crawling/contents_merged/batches_with_images/batch_109.csv')\n",
    "\n",
    "# # change the url to be /media/catalogue/Vietnam/Postage-stamps/EEX-s.jpg\n",
    "\n",
    "# test_df.loc[test_df['Image_URL'] == '/media/catalogue/Vietnam/Postage-stamps/EEX-i.jpg', 'Image_URL'] = '/media/catalogue/Vietnam/Postage-stamps/EEX-s.jpg'\n",
    "\n",
    "# # save df to csv\n",
    "# test_df.to_csv(f'../../crawling/contents_merged/batches_with_images/batch_109.csv', index=False)"
   ]
  },
  {
   "cell_type": "markdown",
   "metadata": {},
   "source": [
    "# all errors:\n",
    "Error at index 8985 with path: ./images_all_2/Burkina Faso/1995/89458/NE-i.jpg and URL: /media/catalogue/Burkina-Faso/Postage-stamps/NE-i.jpg"
   ]
  },
  {
   "cell_type": "markdown",
   "metadata": {},
   "source": [
    "# merge all batches"
   ]
  },
  {
   "cell_type": "code",
   "execution_count": 23,
   "metadata": {},
   "outputs": [],
   "source": [
    "# merge all batches which are in folder ../../crawling/contents_merged/batches_with_image_colors/\n",
    "\n",
    "df = pd.concat([pd.read_csv(f'../../crawling/contents_merged/batches_with_image_colors/{file}') for file in os.listdir('../../crawling/contents_merged/batches_with_image_colors')], ignore_index=True)"
   ]
  },
  {
   "cell_type": "code",
   "execution_count": 24,
   "metadata": {},
   "outputs": [
    {
     "data": {
      "text/plain": [
       "1107474"
      ]
     },
     "execution_count": 24,
     "metadata": {},
     "output_type": "execute_result"
    }
   ],
   "source": [
    "# get amount of rows\n",
    "df.shape[0]"
   ]
  },
  {
   "cell_type": "code",
   "execution_count": 29,
   "metadata": {},
   "outputs": [],
   "source": [
    "# save df to all_contents_updated_4.csv\n",
    "df.to_csv('../../crawling/contents_merged/all_contents_updated_4.csv', index=False)"
   ]
  },
  {
   "cell_type": "code",
   "execution_count": 27,
   "metadata": {},
   "outputs": [
    {
     "name": "stderr",
     "output_type": "stream",
     "text": [
      "C:\\Users\\Robin\\AppData\\Local\\Temp\\ipykernel_2712\\3720273778.py:2: DtypeWarning: Columns (12,13,14,15,16,21,27,28,40) have mixed types. Specify dtype option on import or set low_memory=False.\n",
      "  df_old = pd.read_csv('../../crawling/contents_merged/all_contents_updated_3.csv')\n"
     ]
    }
   ],
   "source": [
    "# load all_contents_updated_3.csv\n",
    "df_old = pd.read_csv('../../crawling/contents_merged/all_contents_updated_3.csv')"
   ]
  },
  {
   "cell_type": "code",
   "execution_count": 28,
   "metadata": {},
   "outputs": [
    {
     "data": {
      "text/plain": [
       "1107474"
      ]
     },
     "execution_count": 28,
     "metadata": {},
     "output_type": "execute_result"
    }
   ],
   "source": [
    "df_old.shape[0]"
   ]
  }
 ],
 "metadata": {
  "kernelspec": {
   "display_name": "Python 3",
   "language": "python",
   "name": "python3"
  },
  "language_info": {
   "codemirror_mode": {
    "name": "ipython",
    "version": 3
   },
   "file_extension": ".py",
   "mimetype": "text/x-python",
   "name": "python",
   "nbconvert_exporter": "python",
   "pygments_lexer": "ipython3",
   "version": "3.12.7"
  }
 },
 "nbformat": 4,
 "nbformat_minor": 2
}
