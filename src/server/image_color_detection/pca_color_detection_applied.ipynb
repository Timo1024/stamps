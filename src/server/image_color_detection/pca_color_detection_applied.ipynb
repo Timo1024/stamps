{
 "cells": [
  {
   "cell_type": "markdown",
   "metadata": {},
   "source": [
    "# Color Detection"
   ]
  },
  {
   "cell_type": "markdown",
   "metadata": {},
   "source": [
    "## load libraries"
   ]
  },
  {
   "cell_type": "code",
   "execution_count": 5,
   "metadata": {},
   "outputs": [],
   "source": [
    "import cv2\n",
    "import numpy as np\n",
    "from sklearn.decomposition import PCA\n",
    "from sklearn.cluster import KMeans, DBSCAN\n",
    "import matplotlib.pyplot as plt\n",
    "from sklearn.metrics import silhouette_score\n",
    "import pandas as pd\n",
    "import requests\n",
    "from PIL import Image\n",
    "from io import BytesIO\n",
    "from skimage.io import imread\n",
    "from colorthief import ColorThief\n",
    "import os\n",
    "from tqdm import tqdm"
   ]
  },
  {
   "cell_type": "markdown",
   "metadata": {},
   "source": [
    "## load image"
   ]
  },
  {
   "cell_type": "code",
   "execution_count": 13,
   "metadata": {},
   "outputs": [],
   "source": [
    "# load csv file\n",
    "df = pd.read_csv('../../crawling/contents_merged/batches_with_images/batch_0.csv')"
   ]
  },
  {
   "cell_type": "code",
   "execution_count": 14,
   "metadata": {},
   "outputs": [
    {
     "data": {
      "text/plain": [
       "6824"
      ]
     },
     "execution_count": 14,
     "metadata": {},
     "output_type": "execute_result"
    }
   ],
   "source": [
    "# get amount of non null values\n",
    "df['Image_URL'].notnull().sum()"
   ]
  },
  {
   "cell_type": "code",
   "execution_count": 71,
   "metadata": {},
   "outputs": [
    {
     "data": {
      "text/plain": [
       "'/media/catalogue/Afghanistan/Postage-stamps/AYO-i.jpg'"
      ]
     },
     "execution_count": 71,
     "metadata": {},
     "output_type": "execute_result"
    }
   ],
   "source": [
    "# get random 1000 rows\n",
    "df_sample = df.sample(n=2)\n",
    "df_sample\n",
    "df_sample['Image_URL'].iloc[1]"
   ]
  },
  {
   "cell_type": "markdown",
   "metadata": {},
   "source": [
    "# Approach using a built in function"
   ]
  },
  {
   "cell_type": "code",
   "execution_count": 74,
   "metadata": {},
   "outputs": [
    {
     "name": "stdout",
     "output_type": "stream",
     "text": [
      "['#d6d8e4', '#2c2c36', '#7b5954', '#84879b', '#c27d52']\n"
     ]
    }
   ],
   "source": [
    "def extract_palette(image_path, num_colors):\n",
    "    color_thief = ColorThief(image_path)\n",
    "    palette = color_thief.get_palette(color_count=num_colors)\n",
    "    return palette\n",
    "\n",
    "def plot_palette(colors):\n",
    "    plt.figure(figsize=(12, 2))\n",
    "    plt.bar(range(len(colors)), [1] * len(colors), color=[tuple(c / 255 for c in color) for color in colors], width=1)\n",
    "    plt.axis('off')\n",
    "    plt.show()\n",
    "\n",
    "def get_image(image_path):\n",
    "    # url = str(url)\n",
    "\n",
    "    # if(url != \"nan\"):\n",
    "\n",
    "        # url = \"https://www.stampworld.com/\" + url\n",
    "        # response = requests.get(url)\n",
    "        # if response.status_code == 200:\n",
    "            # image_path = os.path.join(\"temp\", url.split(\"/\")[-1])\n",
    "            # with open(image_path, 'wb') as f:\n",
    "                # f.write(response.content)\n",
    "            num_colors = 5\n",
    "            colors = extract_palette(image_path, num_colors)\n",
    "            # plot_palette(colors)\n",
    "\n",
    "            # convert colors to hex\n",
    "            colors = [f'#{color[0]:02x}{color[1]:02x}{color[2]:02x}' for color in colors]\n",
    "            return colors\n",
    "\n",
    "    #     else:\n",
    "    #         return None\n",
    "\n",
    "    # else:\n",
    "    #     return None\n",
    "\n",
    "if str(df_sample['Image_Path'].iloc[1]) != \"nan\":\n",
    "    colors = get_image(\"../../crawling\" + df_sample['Image_Path'].iloc[1][1:])\n",
    "    print(colors)\n",
    "else:\n",
    "    print(\"None\")"
   ]
  },
  {
   "cell_type": "code",
   "execution_count": 75,
   "metadata": {},
   "outputs": [
    {
     "data": {
      "text/plain": [
       "\"['#d6d8e4', '#2c2c36', '#7b5954', '#84879b', '#c27d52']\""
      ]
     },
     "execution_count": 75,
     "metadata": {},
     "output_type": "execute_result"
    }
   ],
   "source": [
    "str(colors)"
   ]
  },
  {
   "cell_type": "code",
   "execution_count": 60,
   "metadata": {},
   "outputs": [
    {
     "data": {
      "text/plain": [
       "'/media/catalogue/Afghanistan/Postage-stamps/TC-i.jpg'"
      ]
     },
     "execution_count": 60,
     "metadata": {},
     "output_type": "execute_result"
    }
   ],
   "source": [
    "df_sample['Image_URL'].iloc[0]"
   ]
  },
  {
   "cell_type": "code",
   "execution_count": 62,
   "metadata": {},
   "outputs": [
    {
     "data": {
      "text/plain": [
       "'/images_all_2/Afghanistan/1976/198914/TC-i.jpg'"
      ]
     },
     "execution_count": 62,
     "metadata": {},
     "output_type": "execute_result"
    }
   ],
   "source": [
    "df_sample['Image_Path'].iloc[0][1:]"
   ]
  },
  {
   "cell_type": "code",
   "execution_count": 50,
   "metadata": {},
   "outputs": [
    {
     "name": "stderr",
     "output_type": "stream",
     "text": [
      "100%|██████████| 1000/1000 [13:28<00:00,  1.24it/s]\n"
     ]
    }
   ],
   "source": [
    "# download all images in temp folder\n",
    "for index, row in tqdm(df_sample.iterrows(), total=df_sample.shape[0]):\n",
    "    url = row['Image_URL']\n",
    "    url = \"https://www.stampworld.com/\" + str(url)\n",
    "    response = requests.get(url)\n",
    "    if response.status_code == 200:\n",
    "        image_path = os.path.join(\"temp\", url.split(\"/\")[-1])\n",
    "        with open(image_path, 'wb') as f:\n",
    "            f.write(response.content)"
   ]
  },
  {
   "cell_type": "code",
   "execution_count": 51,
   "metadata": {},
   "outputs": [],
   "source": [
    "files = [f for f in os.listdir(\"temp\") if os.path.isfile(os.path.join(\"temp\", f))]"
   ]
  },
  {
   "cell_type": "code",
   "execution_count": 52,
   "metadata": {},
   "outputs": [
    {
     "name": "stderr",
     "output_type": "stream",
     "text": [
      "100%|██████████| 552/552 [01:42<00:00,  5.38it/s]\n"
     ]
    }
   ],
   "source": [
    "# loop over files and extract palette\n",
    "all_colors = []\n",
    "for file in tqdm(files, total=len(files)):\n",
    "    colors = extract_palette(os.path.join(\"temp\", file), 5)\n",
    "    all_colors.append(colors)"
   ]
  },
  {
   "cell_type": "code",
   "execution_count": null,
   "metadata": {},
   "outputs": [],
   "source": [
    "# loop over df sample using tqdm\n",
    "for index, row in tqdm(df_sample.iterrows(), total=df_sample.shape[0]):\n",
    "    colors = get_image(row['Image_URL'])\n",
    "    df_sample.loc[index, 'Extracted_Colors'] = str(colors)"
   ]
  },
  {
   "cell_type": "markdown",
   "metadata": {},
   "source": [
    "# Manual Approach"
   ]
  },
  {
   "cell_type": "code",
   "execution_count": 27,
   "metadata": {},
   "outputs": [
    {
     "name": "stdout",
     "output_type": "stream",
     "text": [
      "Main colors:\n",
      "[[180.05406222 170.2192691  181.09725159]\n",
      " [238.98057875 238.13277659 240.7953648 ]\n",
      " [ 99.14780836  97.33333333 115.40265036]]\n",
      "Relative counts:\n",
      "[0.129375   0.60335938 0.03832031]\n",
      "[[180.05406222 170.2192691  181.09725159]\n",
      " [238.98057875 238.13277659 240.7953648 ]\n",
      " [ 99.14780836  97.33333333 115.40265036]]\n"
     ]
    }
   ],
   "source": [
    "def get_image(image_url):\n",
    "\n",
    "    image_url = str(image_url)\n",
    "\n",
    "    if(image_url != \"nan\"):\n",
    "\n",
    "        image_url = \"https://www.stampworld.com/\" + image_url\n",
    "        # download image from url\n",
    "        response = requests.get(image_url)\n",
    "        image = Image.open(BytesIO(response.content))\n",
    "\n",
    "        # convert JpegImageFile to numpy array\n",
    "        image = np.array(image)\n",
    "\n",
    "        # load image from path ../../image_detection/images_test/test/01.png\n",
    "        # image = cv2.imread('./test_images/01.png')\n",
    "        # image = cv2.imread('./test_images/05-1.png')\n",
    "\n",
    "        # reshape\n",
    "        pixels_bgr = image.reshape(-1, 3)\n",
    "\n",
    "        # Convert BGR to RGB\n",
    "        pixels_rgb = pixels_bgr[:, [2, 1, 0]]\n",
    "\n",
    "        # Perform PCA to reduce the dimensionality to 2D\n",
    "        pca = PCA(n_components=2)\n",
    "        pixels_2d = pca.fit_transform(pixels_rgb)\n",
    "\n",
    "        # Apply DBSCAN to find dense regions\n",
    "        dbscan = DBSCAN(eps=1.5, min_samples=10)\n",
    "        dbscan.fit(pixels_2d)\n",
    "\n",
    "        # Get the labels for each point\n",
    "        labels = dbscan.labels_\n",
    "\n",
    "        # Filter out noise points (label == -1)\n",
    "        mask = labels != -1\n",
    "        filtered_pixels_2d = pixels_2d[mask]\n",
    "        filtered_pixels_rgb = pixels_rgb[mask]\n",
    "\n",
    "        # kmeans\n",
    "        optimal_clusters = 3  # Number of main colors you want to find\n",
    "        kmeans = KMeans(n_clusters=optimal_clusters)\n",
    "        kmeans.fit(filtered_pixels_rgb)\n",
    "\n",
    "        # get colors\n",
    "        # Get the cluster centers (the main colors)\n",
    "        main_colors = kmeans.cluster_centers_\n",
    "\n",
    "        # Get the labels for each pixel\n",
    "        labels = kmeans.labels_\n",
    "\n",
    "        # Find the cluster with the most pixels\n",
    "        unique, counts = np.unique(labels, return_counts=True)\n",
    "        max_cluster = unique[np.argmax(counts)]\n",
    "\n",
    "        # Filter the pixels belonging to the cluster with the most pixels\n",
    "        max_cluster_pixels = filtered_pixels_rgb[labels == max_cluster]\n",
    "\n",
    "        # Create an image showing only the pixels of the largest cluster\n",
    "        max_cluster_image = np.zeros_like(pixels_rgb)\n",
    "        max_cluster_image[mask] = main_colors[labels]\n",
    "        max_cluster_image = max_cluster_image.reshape(image.shape)\n",
    "\n",
    "        total_pixels = pixels_rgb.shape[0]\n",
    "\n",
    "        # Calculate the relative counts\n",
    "        relative_counts = counts / total_pixels\n",
    "\n",
    "        print('Main colors:')\n",
    "        print(main_colors)\n",
    "        print('Relative counts:')\n",
    "        print(relative_counts)\n",
    "\n",
    "        # return main colors and relative counts\n",
    "        return main_colors, relative_counts\n",
    "\n",
    "    else:\n",
    "        return None, None\n",
    "\n",
    "\n",
    "# get main colors\n",
    "main_colors, relative_counts = get_image(df_sample['Image_URL'].iloc[3])\n",
    "print(main_colors)"
   ]
  },
  {
   "cell_type": "code",
   "execution_count": 28,
   "metadata": {},
   "outputs": [
    {
     "data": {
      "image/png": "[encoded data removed]",
      "text/plain": [
       "<Figure size 1000x600 with 1 Axes>"
      ]
     },
     "metadata": {},
     "output_type": "display_data"
    }
   ],
   "source": [
    "plt.figure(figsize=(10, 6))\n",
    "plt.bar(range(3), relative_counts, color=main_colors / 255.0)\n",
    "plt.axhline(y=0.1, color='black', linestyle='--')\n",
    "plt.xlabel('Cluster')\n",
    "plt.ylabel('Relative Number of Pixels')\n",
    "plt.title('Relative Distribution of Pixels Across Clusters')\n",
    "plt.show()"
   ]
  }
 ],
 "metadata": {
  "kernelspec": {
   "display_name": "Python 3",
   "language": "python",
   "name": "python3"
  },
  "language_info": {
   "codemirror_mode": {
    "name": "ipython",
    "version": 3
   },
   "file_extension": ".py",
   "mimetype": "text/x-python",
   "name": "python",
   "nbconvert_exporter": "python",
   "pygments_lexer": "ipython3",
   "version": "3.12.7"
  }
 },
 "nbformat": 4,
 "nbformat_minor": 2
}
