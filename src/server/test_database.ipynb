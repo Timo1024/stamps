{
 "cells": [
  {
   "cell_type": "markdown",
   "metadata": {},
   "source": [
    "# imports"
   ]
  },
  {
   "cell_type": "code",
   "execution_count": 1,
   "metadata": {},
   "outputs": [],
   "source": [
    "import mysql.connector\n",
    "import json\n",
    "import pandas as pd\n",
    "from tqdm.notebook import tqdm\n",
    "from datetime import datetime\n",
    "import re\n",
    "import numpy as np\n",
    "import bcrypt"
   ]
  },
  {
   "cell_type": "markdown",
   "metadata": {},
   "source": [
    "# connect to db"
   ]
  },
  {
   "cell_type": "code",
   "execution_count": 2,
   "metadata": {},
   "outputs": [],
   "source": [
    "with open(\"../crawling/tokens.json\") as f:\n",
    "    passwords = json.load(f)\n",
    "\n",
    "pwd=passwords[\"mysql_password_laptop\"]\n",
    "# pwd=passwords[\"mysql_password\"]"
   ]
  },
  {
   "cell_type": "code",
   "execution_count": 3,
   "metadata": {},
   "outputs": [],
   "source": [
    "# Connect to MySQL\n",
    "connection = mysql.connector.connect(\n",
    "    host='localhost',\n",
    "    user='root',\n",
    "    password=pwd,\n",
    "    database='stampcollection'\n",
    ")\n",
    "\n",
    "cursor = connection.cursor()"
   ]
  },
  {
   "cell_type": "markdown",
   "metadata": {},
   "source": [
    "# create salted hash password"
   ]
  },
  {
   "cell_type": "code",
   "execution_count": 6,
   "metadata": {},
   "outputs": [
    {
     "name": "stdout",
     "output_type": "stream",
     "text": [
      "Stored hash: b'$2b$12$TUspeYFK1R32Y6P8HZgdd.Ja/OWfmxJfV5l6m5jPlJI8i0xY.wlHG'\n",
      "Password valid? True\n"
     ]
    }
   ],
   "source": [
    "# Hash a password\n",
    "def hash_password(password):\n",
    "    salt = bcrypt.gensalt()\n",
    "    hashed = bcrypt.hashpw(password.encode('utf-8'), salt)\n",
    "    return hashed\n",
    "\n",
    "# Verify a password\n",
    "def verify_password(password, hashed):\n",
    "    return bcrypt.checkpw(password.encode('utf-8'), hashed)\n",
    "\n",
    "# Example usage\n",
    "password = \"secure_password\"\n",
    "hashed_password = hash_password(password)\n",
    "print(\"Stored hash:\", hashed_password)\n",
    "\n",
    "# Verification\n",
    "is_valid = verify_password(\"secure_password\", hashed_password)\n",
    "print(\"Password valid?\", is_valid)"
   ]
  },
  {
   "cell_type": "markdown",
   "metadata": {},
   "source": [
    "## add user"
   ]
  },
  {
   "cell_type": "code",
   "execution_count": 9,
   "metadata": {},
   "outputs": [],
   "source": [
    "# Add user to the database\n",
    "def add_user(username, email, password):\n",
    "    hashed_password = hash_password(password)\n",
    "    query = \"\"\"\n",
    "        INSERT INTO users (username, email, password_hash)\n",
    "        VALUES (%s, %s, %s)\n",
    "    \"\"\"\n",
    "    cursor.execute(query, (username, email, hashed_password))\n",
    "    connection.commit()\n",
    "    print(f\"User '{username}' added successfully!\")"
   ]
  },
  {
   "cell_type": "code",
   "execution_count": 12,
   "metadata": {},
   "outputs": [
    {
     "name": "stdout",
     "output_type": "stream",
     "text": [
      "User 'example_user' added successfully!\n"
     ]
    }
   ],
   "source": [
    "# example\n",
    "cursor.execute(\"SET FOREIGN_KEY_CHECKS = 0\")\n",
    "cursor.execute(\"TRUNCATE TABLE users\")\n",
    "cursor.execute(\"SET FOREIGN_KEY_CHECKS = 1\")\n",
    "connection.commit()\n",
    "add_user(\"example_user\", \"user@example.com\", \"secure_password\")"
   ]
  },
  {
   "cell_type": "markdown",
   "metadata": {},
   "source": [
    "# add stamp to user"
   ]
  },
  {
   "cell_type": "code",
   "execution_count": 5,
   "metadata": {},
   "outputs": [],
   "source": [
    "# Function to add a user-stamp ownership\n",
    "def add_or_update_user_stamp(user_id, stamp_id, amount_used=1, note=None):\n",
    "    query = \"\"\"\n",
    "        INSERT INTO user_stamps (user_id, stamp_id, amount_used, note)\n",
    "        VALUES (%s, %s, %s, %s)\n",
    "        ON DUPLICATE KEY UPDATE \n",
    "            amount_used = amount_used + VALUES(amount_used)\n",
    "    \"\"\"\n",
    "    cursor.execute(query, (user_id, stamp_id, amount_used, note))\n",
    "    connection.commit()\n",
    "    print(f\"Updated or added stamp {stamp_id} for user {user_id}.\")\n",
    "\n",
    "# Retrieve the user_id for example_user\n",
    "def get_user_id(username):\n",
    "    query = \"SELECT user_id FROM users WHERE username = %s\"\n",
    "    cursor.execute(query, (username,))\n",
    "    result = cursor.fetchone()\n",
    "    if result:\n",
    "        return result[0]\n",
    "    else:\n",
    "        raise ValueError(f\"User '{username}' not found.\")"
   ]
  },
  {
   "cell_type": "code",
   "execution_count": 6,
   "metadata": {},
   "outputs": [
    {
     "name": "stdout",
     "output_type": "stream",
     "text": [
      "Updated or added stamp 4578 for user 1.\n",
      "Updated or added stamp 579 for user 1.\n",
      "Updated or added stamp 345 for user 1.\n",
      "Updated or added stamp 69 for user 1.\n",
      "Updated or added stamp 420 for user 1.\n",
      "Updated or added stamp 2 for user 1.\n",
      "Updated or added stamp 54678 for user 1.\n",
      "Updated or added stamp 4353 for user 1.\n",
      "Updated or added stamp 906 for user 1.\n",
      "Updated or added stamp 2510 for user 1.\n",
      "Updated or added stamp 609 for user 1.\n"
     ]
    }
   ],
   "source": [
    "# Example usage\n",
    "try:\n",
    "    # cursor.execute(\"SET FOREIGN_KEY_CHECKS = 0\")\n",
    "    # cursor.execute(\"TRUNCATE TABLE user_stamps\")\n",
    "    # cursor.execute(\"SET FOREIGN_KEY_CHECKS = 1\")\n",
    "    example_user_id = get_user_id(\"Timo1024\")\n",
    "    add_or_update_user_stamp(example_user_id, stamp_id=4578, amount_used=1)\n",
    "    add_or_update_user_stamp(example_user_id, stamp_id=579, amount_used=1)\n",
    "    add_or_update_user_stamp(example_user_id, stamp_id=345, amount_used=1)\n",
    "    add_or_update_user_stamp(example_user_id, stamp_id=69, amount_used=1)\n",
    "    add_or_update_user_stamp(example_user_id, stamp_id=420, amount_used=1)\n",
    "    add_or_update_user_stamp(example_user_id, stamp_id=2, amount_used=1)\n",
    "    add_or_update_user_stamp(example_user_id, stamp_id=54678, amount_used=1)\n",
    "    add_or_update_user_stamp(example_user_id, stamp_id=4353, amount_used=1)\n",
    "    add_or_update_user_stamp(example_user_id, stamp_id=906, amount_used=1)\n",
    "    add_or_update_user_stamp(example_user_id, stamp_id=2510, amount_used=1)\n",
    "    add_or_update_user_stamp(example_user_id, stamp_id=609, amount_used=1)\n",
    "except ValueError as e:\n",
    "    print(e)"
   ]
  }
 ],
 "metadata": {
  "kernelspec": {
   "display_name": "Python 3",
   "language": "python",
   "name": "python3"
  },
  "language_info": {
   "codemirror_mode": {
    "name": "ipython",
    "version": 3
   },
   "file_extension": ".py",
   "mimetype": "text/x-python",
   "name": "python",
   "nbconvert_exporter": "python",
   "pygments_lexer": "ipython3",
   "version": "3.11.9"
  }
 },
 "nbformat": 4,
 "nbformat_minor": 2
}
